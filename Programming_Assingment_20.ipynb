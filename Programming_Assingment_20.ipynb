{
  "nbformat": 4,
  "nbformat_minor": 0,
  "metadata": {
    "colab": {
      "provenance": []
    },
    "kernelspec": {
      "name": "python3",
      "display_name": "Python 3"
    },
    "language_info": {
      "name": "python"
    }
  },
  "cells": [
    {
      "cell_type": "markdown",
      "source": [
        "# **Question1**\n",
        "**Create a function that takes a list of strings and integers, and filters out the list so that it returns a list of integers only.**\n",
        "\n",
        "Examples\n",
        "filter_list([1, 2, 3, &quot;a&quot;, &quot;b&quot;, 4]) ➞ [1, 2, 3, 4]\n",
        "filter_list([&quot;A&quot;, 0, &quot;Edabit&quot;, 1729, &quot;Python&quot;, &quot;1729&quot;]) ➞ [0, 1729]\n",
        "filter_list([&quot;Nothing&quot;, &quot;here&quot;]) ➞ []"
      ],
      "metadata": {
        "id": "Y8HGItqlf4JD"
      }
    },
    {
      "cell_type": "code",
      "execution_count": null,
      "metadata": {
        "colab": {
          "base_uri": "https://localhost:8080/"
        },
        "id": "MFCd9Tlsf2KH",
        "outputId": "ea60c64c-955f-49e7-ac39-8eb537357742"
      },
      "outputs": [
        {
          "output_type": "stream",
          "name": "stdout",
          "text": [
            "[0, 1729]\n",
            "[1, 2, 3, 4]\n",
            "[]\n"
          ]
        }
      ],
      "source": [
        "def filter_list(input):\n",
        "  lis = [item for item in input if type(item)==int]\n",
        "  return lis\n",
        "\n",
        "\n",
        "print(filter_list([\"A\", 0, \"Edabit\", 1729, \"Python\", \"1729\"]) )\n",
        "print(filter_list([1, 2, 3, \"a\", \"b\", 4]))\n",
        "print(filter_list([\"Nothing\", \"here\"]))"
      ]
    },
    {
      "cell_type": "markdown",
      "source": [
        "# **Question2**\n",
        "Given a list of numbers, create a function which returns the list but with each element&#39;s\n",
        "index in the list added to itself. This means you add 0 to the number at index 0, add 1 to the\n",
        "number at index 1, etc...\n",
        "Examples\n",
        "add_indexes([0, 0, 0, 0, 0]) ➞ [0, 1, 2, 3, 4]\n",
        "add_indexes([1, 2, 3, 4, 5]) ➞ [1, 3, 5, 7, 9]\n",
        "add_indexes([5, 4, 3, 2, 1]) ➞ [5, 5, 5, 5, 5]"
      ],
      "metadata": {
        "id": "PhaJeFqug0yM"
      }
    },
    {
      "cell_type": "code",
      "source": [
        "def add_indexes(input):\n",
        "  new_lis =[]\n",
        "  sum =0\n",
        "  for i in enumerate(input):\n",
        "    sum=i[0]+i[1]\n",
        "    new_lis.append(sum)\n",
        "  return new_lis\n",
        "  \n",
        "print(add_indexes([0, 0, 0, 0, 0]))\n",
        "print(add_indexes([1, 2, 3, 4, 5]) )\n",
        "print(add_indexes([5, 4, 3, 2, 1]) )"
      ],
      "metadata": {
        "colab": {
          "base_uri": "https://localhost:8080/"
        },
        "id": "-kChJakag0b7",
        "outputId": "30407162-b3f8-46f1-f5df-f2c0c73cb78a"
      },
      "execution_count": null,
      "outputs": [
        {
          "output_type": "stream",
          "name": "stdout",
          "text": [
            "[0, 1, 2, 3, 4]\n",
            "[1, 3, 5, 7, 9]\n",
            "[5, 5, 5, 5, 5]\n"
          ]
        }
      ]
    },
    {
      "cell_type": "markdown",
      "source": [
        "# **Question3**\n",
        "**Create a function that takes the height and radius of a cone as arguments and returns the volume of the cone rounded to the nearest hundredth. See the resources tab for the formula.**\n",
        "\n",
        "Examples\n",
        "cone_volume(3, 2) ➞ 12.57\n",
        "\n",
        "cone_volume(15, 6) ➞ 565.49\n",
        "\n",
        "cone_volume(18, 0) ➞ 0"
      ],
      "metadata": {
        "id": "I8Np1EPoT7qJ"
      }
    },
    {
      "cell_type": "code",
      "source": [
        "def cone_volume(height, radius):\n",
        "  volume = (22/7)*(radius*radius)*height/3\n",
        "  return round(volume,2)\n",
        "\n",
        "print(cone_volume(3, 2))\n",
        "print(cone_volume(15, 6))\n",
        "print(cone_volume(18, 0))"
      ],
      "metadata": {
        "colab": {
          "base_uri": "https://localhost:8080/"
        },
        "id": "1_JBaKv5UA34",
        "outputId": "4ea4887f-b9fd-4ddb-8560-189af23fb21e"
      },
      "execution_count": null,
      "outputs": [
        {
          "output_type": "stream",
          "name": "stdout",
          "text": [
            "12.57\n",
            "565.71\n",
            "0.0\n"
          ]
        }
      ]
    },
    {
      "cell_type": "markdown",
      "source": [
        "# **Question4**\n",
        "**This Triangular Number Sequence is generated from a pattern of dots that form a triangle. The first 5 numbers of the sequence, or dots, are: 1, 3, 6, 10, 15**\n",
        "\n",
        "\n",
        "\n",
        "This means that the first triangle has just one dot, the second one has three dots, the third one has 6 dots and so on.\n",
        "Write a function that gives the number of dots with its corresponding triangle number of the sequence.\n",
        "Examples\n",
        "triangle(1) ➞ 1\n",
        "\n",
        "triangle(6) ➞ 21\n",
        "\n",
        "triangle(215) ➞ 23220"
      ],
      "metadata": {
        "id": "1qBQo9lJVAEK"
      }
    },
    {
      "cell_type": "code",
      "source": [
        "def triangle(num):\n",
        "  dots = num*(num+1)//2\n",
        "  return dots\n",
        "\n",
        "print(triangle(6))\n",
        "print(triangle(215))"
      ],
      "metadata": {
        "colab": {
          "base_uri": "https://localhost:8080/"
        },
        "id": "PVhHPPF_WY8w",
        "outputId": "dd42820f-963c-4e4c-d31a-b5756e6f9c81"
      },
      "execution_count": null,
      "outputs": [
        {
          "output_type": "stream",
          "name": "stdout",
          "text": [
            "21\n",
            "23220\n"
          ]
        }
      ]
    },
    {
      "cell_type": "markdown",
      "source": [
        "# **Question5**\n",
        "**Create a function that takes a list of numbers between 1 and 10 (excluding one number) and returns the missing number.**\n",
        "\n",
        "Examples\n",
        "missing_num([1, 2, 3, 4, 6, 7, 8, 9, 10]) ➞ 5\n",
        "missing_num([7, 2, 3, 6, 5, 9, 1, 4, 8]) ➞ 10\n",
        "missing_num([10, 5, 1, 2, 4, 6, 8, 3, 9]) ➞ 7\n"
      ],
      "metadata": {
        "id": "gPJu7fTHiecG"
      }
    },
    {
      "cell_type": "code",
      "source": [
        "def missing_num(num_list):\n",
        "  int_list = [1, 2, 3, 4, 5, 6, 7, 8, 9, 10]\n",
        "  missing_lis = [i for i in int_list if i not in num_list]\n",
        "  return missing_lis[0]\n",
        "\n",
        "print(missing_num([1, 2, 3, 4, 6, 7, 8, 9, 10]))\n",
        "print(missing_num([7, 2, 3, 6, 5, 9, 1, 4, 8]))\n",
        "print(missing_num([10, 5, 1, 2, 4, 6, 8, 3, 9]))\n"
      ],
      "metadata": {
        "id": "V5TOVCnjU9i8",
        "colab": {
          "base_uri": "https://localhost:8080/"
        },
        "outputId": "7c3261f4-4d48-48e2-f5f0-e552f098d89c"
      },
      "execution_count": null,
      "outputs": [
        {
          "output_type": "stream",
          "name": "stdout",
          "text": [
            "5\n",
            "10\n",
            "7\n"
          ]
        }
      ]
    }
  ]
}