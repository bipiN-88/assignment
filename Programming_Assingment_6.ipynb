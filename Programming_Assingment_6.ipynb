{
  "cells": [
    {
      "cell_type": "markdown",
      "metadata": {
        "id": "2rafDVV1tlIF"
      },
      "source": [
        ":#**1.Write a Python Program to Display Fibonacci Sequence Using Recursion?** \" \n",
        "\n",
        "\n",
        "\n",
        "\n"
      ]
    },
    {
      "cell_type": "code",
      "execution_count": 19,
      "metadata": {
        "colab": {
          "base_uri": "https://localhost:8080/"
        },
        "id": "15y_hVmatpGg",
        "outputId": "6f46b449-b892-4224-b684-e9cdabb819ec"
      },
      "outputs": [
        {
          "output_type": "stream",
          "name": "stdout",
          "text": [
            "7\n",
            "13\n"
          ]
        }
      ],
      "source": [
        "def fibonacci_series(num):\n",
        "\n",
        "    if num<1:\n",
        "      return 0\n",
        "    elif num==1:\n",
        "        return 1\n",
        "    else:\n",
        "        return fibonacci_series(num-1)+fibonacci_series(num-2)\n",
        "\n",
        "\n",
        "num = int(input())\n",
        "\n",
        "print(fibonacci_series(num) if num>=0 else 'the number should be greater than 0')\n",
        "  \n"
      ]
    },
    {
      "cell_type": "markdown",
      "metadata": {
        "id": "BwjJpYtRtzQm"
      },
      "source": [
        "# **2. Write a Python Program to Find Factorial of Number Using Recursion?**:"
      ]
    },
    {
      "cell_type": "code",
      "execution_count": 20,
      "metadata": {
        "colab": {
          "base_uri": "https://localhost:8080/"
        },
        "id": "fBkth71At3zm",
        "outputId": "91608512-6f47-453f-f507-3ec0f5c8c360"
      },
      "outputs": [
        {
          "output_type": "stream",
          "name": "stdout",
          "text": [
            "6\n",
            "720\n"
          ]
        }
      ],
      "source": [
        "def find_factorial(num):\n",
        "    if num<=1:\n",
        "        return 1\n",
        "    else:\n",
        "        return num*find_factorial(num-1)\n",
        "\n",
        "\n",
        "num = int(input())\n",
        "print(find_factorial(num)if num>=0 else 'the number should be greater than')\n",
        " \n"
      ]
    },
    {
      "cell_type": "markdown",
      "metadata": {
        "id": "xFTWrUYMuHGC"
      },
      "source": [
        "#**3.\tWrite a Python Program to calculate your Body Mass Index?**\n",
        "---\n",
        "\n"
      ]
    },
    {
      "cell_type": "code",
      "execution_count": 10,
      "metadata": {
        "colab": {
          "base_uri": "https://localhost:8080/"
        },
        "id": "W9F7V_tQuK4M",
        "outputId": "2fd117d9-e7c3-4008-8bcb-95cd077a0cac"
      },
      "outputs": [
        {
          "output_type": "stream",
          "name": "stdout",
          "text": [
            "enter your weight in kg75\n",
            "enter your height in cm171\n",
            "25.64891761567662\n"
          ]
        }
      ],
      "source": [
        "def calculate_height(h):\n",
        "    return h/100\n",
        "\n",
        "def calculate_bmi(w, h):\n",
        "    h = float(calculate_height(h))\n",
        "    bmi = w/(h*h)\n",
        "    return bmi\n",
        "    \n",
        "weight = int(input('enter your weight in kg'))\n",
        "height = int(input('enter your height in cm'))\n",
        "print(calculate_bmi(weight, height) if weight >0 and height>0 else \"enter a positive number\")\n",
        "\n",
        "    \n"
      ]
    },
    {
      "cell_type": "markdown",
      "metadata": {
        "id": "TDRXErzHuQMr"
      },
      "source": [
        "# **4.\tWWrite a Python Program to calculate the natural logarithm of any number?**\n",
        "\n",
        "\n"
      ]
    },
    {
      "cell_type": "code",
      "execution_count": 11,
      "metadata": {
        "id": "BfttXh84uUUl",
        "colab": {
          "base_uri": "https://localhost:8080/"
        },
        "outputId": "505e04e0-e0ac-4445-d1d4-b605edabf31a"
      },
      "outputs": [
        {
          "output_type": "stream",
          "name": "stdout",
          "text": [
            "10\n",
            "2\n",
            "0.30102999566398114\n"
          ]
        }
      ],
      "source": [
        "import math\n",
        "\n",
        "base = int(input())\n",
        "number = int(input())\n",
        "\n",
        "print(math.log(number, base))\n",
        "\n"
      ]
    },
    {
      "cell_type": "markdown",
      "metadata": {
        "id": "RpATFUKkuZZu"
      },
      "source": [
        "# **5.\tWrite a Python Program for cube sum of first n natural numbers?**\n",
        "\n"
      ]
    },
    {
      "cell_type": "code",
      "execution_count": 21,
      "metadata": {
        "id": "s7XuQivF4X9v",
        "colab": {
          "base_uri": "https://localhost:8080/"
        },
        "outputId": "fc189953-c9b4-44b7-ba53-e8860011ff55"
      },
      "outputs": [
        {
          "output_type": "stream",
          "name": "stdout",
          "text": [
            "7\n",
            "784\n"
          ]
        }
      ],
      "source": [
        "def natural_cube_sum(num):\n",
        "    \n",
        "    if num<1:\n",
        "      return 0\n",
        "\n",
        "    elif num == 1: \n",
        "        return 1\n",
        "    else:\n",
        "        return num*num*num+natural_cube_sum(num -1 )\n",
        "        \n",
        "\n",
        "num = int(input())\n",
        "print(natural_cube_sum(num)if num>0 else 'the number should be greater than')\n",
        "  \n",
        "\n"
      ]
    }
  ],
  "metadata": {
    "colab": {
      "name": "Programming_Assingment_6.ipynb",
      "provenance": []
    },
    "kernelspec": {
      "display_name": "Python 3",
      "name": "python3"
    },
    "language_info": {
      "name": "python"
    }
  },
  "nbformat": 4,
  "nbformat_minor": 0
}