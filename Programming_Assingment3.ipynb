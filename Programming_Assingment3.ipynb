{
  "cells": [
    {
      "cell_type": "markdown",
      "metadata": {
        "id": "2rafDVV1tlIF"
      },
      "source": [
        "#1. **Write a Python Program to Check if a Number is Positive, Negative or Zero?** \" \n",
        "\n",
        "\n",
        "\n",
        "\n"
      ]
    },
    {
      "cell_type": "code",
      "execution_count": 1,
      "metadata": {
        "colab": {
          "base_uri": "https://localhost:8080/"
        },
        "id": "15y_hVmatpGg",
        "outputId": "b641e1b5-7bd3-4c06-dcb1-57a383a60379"
      },
      "outputs": [
        {
          "output_type": "stream",
          "name": "stdout",
          "text": [
            "please enter a number\n",
            "23\n",
            "The number is positive\n"
          ]
        }
      ],
      "source": [
        "def check_number(num):\n",
        "    if num == 0:\n",
        "        return \"zero\"\n",
        "    elif num > 0: \n",
        "        return \"positive\"\n",
        "    else:\n",
        "        return \"negative\"\n",
        "\n",
        "print(\"please enter a number\")\n",
        "number = int(input())\n",
        "print(\"The number is \"+ check_number(number))\n"
      ]
    },
    {
      "cell_type": "markdown",
      "metadata": {
        "id": "BwjJpYtRtzQm"
      },
      "source": [
        "# **2.\tWrite a Python Program to Check if a Number is Odd or Even?**:"
      ]
    },
    {
      "cell_type": "code",
      "execution_count": 2,
      "metadata": {
        "colab": {
          "base_uri": "https://localhost:8080/"
        },
        "id": "fBkth71At3zm",
        "outputId": "48bdc594-0ac3-4574-b463-e9c867bff550"
      },
      "outputs": [
        {
          "output_type": "stream",
          "name": "stdout",
          "text": [
            "please enter a number\n",
            "23\n",
            "The number is odd\n"
          ]
        }
      ],
      "source": [
        "def check_odd_even(num):\n",
        "    if num % 2 == 0:\n",
        "        return \"even\"\n",
        "    else:\n",
        "        return \"odd\"\n",
        "\n",
        "print(\"please enter a number\")\n",
        "number = int(input())\n",
        "print(\"The number is \" + check_odd_even(number))\n",
        "\n"
      ]
    },
    {
      "cell_type": "markdown",
      "metadata": {
        "id": "xFTWrUYMuHGC"
      },
      "source": [
        "\\# 3.\t**Write a Python Program to Check Leap Year?**\n",
        "---\n",
        "\n"
      ]
    },
    {
      "cell_type": "code",
      "execution_count": 7,
      "metadata": {
        "colab": {
          "base_uri": "https://localhost:8080/"
        },
        "id": "W9F7V_tQuK4M",
        "outputId": "c52a9d50-d24c-41ee-a883-80e19f20f038"
      },
      "outputs": [
        {
          "output_type": "stream",
          "name": "stdout",
          "text": [
            "please enter a year to check\n",
            "2000\n",
            "The year is a leap year\n"
          ]
        }
      ],
      "source": [
        "def check_leap_year(year):\n",
        "    if year % 4 == 0:\n",
        "        return \"leap year\"\n",
        "    else:\n",
        "        return \"non-leap year\"\n",
        "\n",
        "print(\"please enter a year to check\")\n",
        "year = int(input())\n",
        "print(\"The year is a \" + check_leap_year(year))\n",
        "\n",
        "\n"
      ]
    },
    {
      "cell_type": "markdown",
      "metadata": {
        "id": "TDRXErzHuQMr"
      },
      "source": [
        "# 4.\t**Write a Python Program to Check Prime Number?**"
      ]
    },
    {
      "cell_type": "code",
      "execution_count": 5,
      "metadata": {
        "id": "BfttXh84uUUl",
        "colab": {
          "base_uri": "https://localhost:8080/"
        },
        "outputId": "4f236d72-4b21-45fb-96f7-675777f4e872"
      },
      "outputs": [
        {
          "output_type": "stream",
          "name": "stdout",
          "text": [
            "please enter a number to check if prime\n",
            "23\n",
            "The number is a prime number\n"
          ]
        }
      ],
      "source": [
        "def check_prime(num):\n",
        "    i = 2\n",
        "    if(num <= 1):\n",
        "        return False\n",
        "    \n",
        "    while(i<=math.sqrt(num)):\n",
        "        if((num % i)==0):\n",
        "           return False\n",
        "        i=i+1\n",
        "    return True       \n",
        "    \n",
        "print(\"please enter a number to check if prime\")\n",
        "number = int(input())\n",
        "if(check_prime(number)):\n",
        "    print(\"The number is a prime number\")\n",
        "else: \n",
        "    print(\"The number is not a prime number\")\n"
      ]
    },
    {
      "cell_type": "markdown",
      "metadata": {
        "id": "RpATFUKkuZZu"
      },
      "source": [
        "# 5.\t**Write a Python Program to Print all Prime Numbers in an Interval of 1-10000?**"
      ]
    },
    {
      "cell_type": "code",
      "execution_count": 4,
      "metadata": {
        "id": "s7XuQivF4X9v",
        "colab": {
          "base_uri": "https://localhost:8080/"
        },
        "outputId": "2c27a1ea-36a9-42d4-9b19-009d4380bc2c"
      },
      "outputs": [
        {
          "output_type": "stream",
          "name": "stdout",
          "text": [
            "2\n",
            "3\n",
            "5\n",
            "7\n"
          ]
        }
      ],
      "source": [
        "import math\n",
        "def check_prime(num):\n",
        "    i = 2\n",
        "    if(num <= 1):\n",
        "        return False\n",
        "    \n",
        "    while(i<=math.sqrt(num)):\n",
        "        if((num % i)==0):\n",
        "           return False\n",
        "        i=i+1\n",
        "    return True       \n",
        "    \n",
        "for number in range(1,10000):\n",
        "    if(check_prime(number)):\n",
        "        print(number)\n",
        "\n"
      ]
    }
  ],
  "metadata": {
    "colab": {
      "name": "Programming_Assingment3.ipynb",
      "provenance": []
    },
    "kernelspec": {
      "display_name": "Python 3",
      "name": "python3"
    },
    "language_info": {
      "name": "python"
    }
  },
  "nbformat": 4,
  "nbformat_minor": 0
}