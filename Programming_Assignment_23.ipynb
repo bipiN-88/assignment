{
  "nbformat": 4,
  "nbformat_minor": 0,
  "metadata": {
    "colab": {
      "provenance": []
    },
    "kernelspec": {
      "name": "python3",
      "display_name": "Python 3"
    },
    "language_info": {
      "name": "python"
    }
  },
  "cells": [
    {
      "cell_type": "markdown",
      "source": [
        "# **Question 1**\n",
        " **Create a function that takes a number as an argument and returns True or False depending on whether the number is symmetrical or not. A number is symmetrical when it is the same as its reverse.**\n"
      ],
      "metadata": {
        "id": "VQy83rm9Z0FA"
      }
    },
    {
      "cell_type": "code",
      "source": [
        "def is_symmetrical(num):\n",
        "  numb = str(num)\n",
        "  leng = len(numb)\n",
        "  mid = int(leng/2)\n",
        "\n",
        "  if leng%2 !=0:\n",
        "    front = numb[0:mid] \n",
        "    end = numb[leng:mid:-1]\n",
        "        \n",
        "  else:\n",
        "    front = numb[0:mid] \n",
        "    end = numb[leng:mid-1:-1]\n",
        "\n",
        "  if front == end:\n",
        "    return True\n",
        "  else: \n",
        "    return False\n",
        "\n",
        "  \n",
        "print(is_symmetrical(1112111))"
      ],
      "metadata": {
        "id": "gvnkbaQJvext"
      },
      "execution_count": null,
      "outputs": []
    },
    {
      "cell_type": "code",
      "execution_count": null,
      "metadata": {
        "colab": {
          "base_uri": "https://localhost:8080/"
        },
        "id": "hyNn8HnyZy8C",
        "outputId": "f3a11511-b8e6-47a1-f598-b6b5c82a62a4"
      },
      "outputs": [
        {
          "output_type": "stream",
          "name": "stdout",
          "text": [
            "True\n"
          ]
        }
      ],
      "source": [
        "def reverse_number(num):\n",
        "  rev_num = 0\n",
        "  while(num>1):\n",
        "    last_digit = num%10\n",
        "    rev_num = rev_num*10 + last_digit\n",
        "    num = num//10\n",
        "  return rev_num\n",
        "\n",
        "def symmetrical(num):\n",
        "  numb = str(num)\n",
        "  len = length_num(num) \n",
        "  mid = len //2\n",
        "  divisor = pow(10, mid)\n",
        "  end = num%divisor\n",
        "  front = num//divisor\n",
        "\n",
        "  if len%2!=0:\n",
        "    divisor = pow(10, mid+1)\n",
        "    front = num//divisor\n",
        "  \n",
        "  \n",
        "  if reverse_number(front) ==end:\n",
        "    return True\n",
        "  else:\n",
        "    return False\n",
        "\n",
        "print(symmetrical(8888))"
      ]
    },
    {
      "cell_type": "markdown",
      "source": [
        "# **Question 2:**\n",
        "**Given a string of numbers separated by a comma and space, return the product of the numbers.**\n",
        "\n",
        "\n",
        "\n",
        "Examples\n",
        "multiply_nums(\"2, 3\") ➞ 6\n",
        "\n",
        "multiply_nums(\"1, 2, 3, 4\") ➞ 24\n",
        "\n",
        "multiply_nums(\"54, 75, 453, 0\") ➞ 0\n",
        "\n",
        "multiply_nums(\"10, -2\") ➞ -20\n"
      ],
      "metadata": {
        "id": "zbS_Fw7NZ4oV"
      }
    },
    {
      "cell_type": "code",
      "source": [
        "def multiply_nums(str):\n",
        "  \n",
        "  num_lis = [int(item) for item in str.split(\",\")]\n",
        "  result = 1\n",
        "  for item in num_lis:\n",
        "    result = result*item\n",
        "  return result\n",
        "      \n",
        "print(multiply_nums(\"1, 2, 3, 4\"))\n",
        "print(multiply_nums(\"54, 75, 453, 0\") )\n",
        "print(multiply_nums(\"10, -2\"))"
      ],
      "metadata": {
        "colab": {
          "base_uri": "https://localhost:8080/"
        },
        "id": "rXU5ard_EXwX",
        "outputId": "56540ff5-12e7-4614-e613-9c60817e32b8"
      },
      "execution_count": null,
      "outputs": [
        {
          "output_type": "stream",
          "name": "stdout",
          "text": [
            "24\n",
            "0\n",
            "-20\n"
          ]
        }
      ]
    },
    {
      "cell_type": "markdown",
      "source": [
        "# **Question 3**\n",
        "**Create a function that squares every digit of a number.**\n",
        "\n",
        "\n",
        "Examples\n",
        "square_digits(9119) ➞ 811181\n",
        "square_digits(2483) ➞ 416649\n",
        "square_digits(3212) ➞ 9414"
      ],
      "metadata": {
        "id": "v6kmsXvoicSp"
      }
    },
    {
      "cell_type": "code",
      "source": [
        "\n",
        "def square_digits(num):\n",
        "  num = str(num)\n",
        "  lis = [int(item) for item in num]\n",
        "  for i in range(len(lis)):\n",
        "    lis[i]=lis[i]*lis[i]\n",
        "  num = ''.join([str(item) for item in lis])\n",
        "  num = int(num)\n",
        "  return num\n",
        "\n",
        "print(square_digits(83))\n",
        "print(square_digits(9119))\n",
        "print(square_digits(3212))\n"
      ],
      "metadata": {
        "colab": {
          "base_uri": "https://localhost:8080/"
        },
        "id": "mJ3tj2gyhvQK",
        "outputId": "15351504-045e-4306-fbca-99f4b351670c"
      },
      "execution_count": null,
      "outputs": [
        {
          "output_type": "stream",
          "name": "stdout",
          "text": [
            "649\n",
            "811181\n",
            "9414\n"
          ]
        }
      ]
    },
    {
      "cell_type": "markdown",
      "source": [
        "# **Question 4**\n",
        "**Create a function that sorts a list and removes all duplicate items from it.**"
      ],
      "metadata": {
        "id": "HR62r3jFn_j3"
      }
    },
    {
      "cell_type": "code",
      "source": [
        "def setify(lis):\n",
        "  lis = list(set(lis))\n",
        "  return lis\n",
        "\n",
        "print(setify([1, 3, 3, 5, 5]))"
      ],
      "metadata": {
        "colab": {
          "base_uri": "https://localhost:8080/"
        },
        "id": "RzzWpR0Ao9t2",
        "outputId": "c10d8f1e-33a6-4ef2-db4f-095de659a6ed"
      },
      "execution_count": null,
      "outputs": [
        {
          "output_type": "stream",
          "name": "stdout",
          "text": [
            "[1, 3, 5]\n"
          ]
        }
      ]
    },
    {
      "cell_type": "code",
      "source": [
        "def setify(lis):\n",
        "  lis_new = []\n",
        "  [lis_new.append(item) for item in lis if item not in lis_new]\n",
        "  return lis_new\n",
        "\n",
        "print(setify([1, 3, 3, 5, 5]))"
      ],
      "metadata": {
        "colab": {
          "base_uri": "https://localhost:8080/"
        },
        "id": "a1XO1dweoK99",
        "outputId": "b6e5cb2c-a92b-4cf1-b0d0-663bc9dbaa61"
      },
      "execution_count": null,
      "outputs": [
        {
          "output_type": "stream",
          "name": "stdout",
          "text": [
            "[1, 3, 5]\n"
          ]
        }
      ]
    },
    {
      "cell_type": "markdown",
      "source": [
        "# **Question 5**\n",
        "**Create a function that returns the mean of all digits.**\n",
        "\n",
        "\n",
        "Examples\n",
        "mean(42) ➞ 3\n",
        "\n",
        "mean(12345) ➞ 3\n",
        "\n",
        "mean(666) ➞ 6\n",
        "Notes\n",
        "The mean of all digits is the sum of digits / how many digits there are (e.g. mean of digits in 512 is (5+1+2)/3(number of digits) = 8/3=2).\n",
        "The mean will always be an integer.\n"
      ],
      "metadata": {
        "id": "5QoCbOTnsYGg"
      }
    },
    {
      "cell_type": "code",
      "source": [],
      "metadata": {
        "id": "rXBiWvhTujZm"
      },
      "execution_count": null,
      "outputs": []
    },
    {
      "cell_type": "code",
      "source": [
        "def mean(num):\n",
        "\n",
        "  lis = [int(char) for char in num]\n",
        "  sum = 0\n",
        "  for item in lis:\n",
        "    sum=sum+item\n",
        "  mean = sum//len(lis)\n",
        "  return mean\n",
        "\n",
        "number = input('enter a number')\n",
        "print(mean(number))\n"
      ],
      "metadata": {
        "colab": {
          "base_uri": "https://localhost:8080/"
        },
        "id": "-N7t1nYTsbbo",
        "outputId": "a2e1d090-0809-45ec-8cdd-2c281b1cf37e"
      },
      "execution_count": null,
      "outputs": [
        {
          "output_type": "stream",
          "name": "stdout",
          "text": [
            "enter a number42\n",
            "3\n"
          ]
        }
      ]
    },
    {
      "cell_type": "code",
      "source": [
        "def mean(num):\n",
        "  len = 0\n",
        "  sum = 0\n",
        "\n",
        "  while num>0:\n",
        "    len = len+1\n",
        "    sum = sum+num%10\n",
        "    num = num//10\n",
        "    \n",
        "  mean = sum/len\n",
        "  \n",
        "  return mean\n",
        "\n",
        "\n",
        "print(mean(42))\n",
        "print(mean(12345))\n"
      ],
      "metadata": {
        "colab": {
          "base_uri": "https://localhost:8080/"
        },
        "id": "Yvbe83LctfGW",
        "outputId": "c7fc7e4a-6a65-4a89-bdd1-e6d8abf84048"
      },
      "execution_count": null,
      "outputs": [
        {
          "output_type": "stream",
          "name": "stdout",
          "text": [
            "3.0\n",
            "3.0\n"
          ]
        }
      ]
    }
  ]
}