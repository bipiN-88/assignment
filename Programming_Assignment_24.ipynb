{
  "nbformat": 4,
  "nbformat_minor": 0,
  "metadata": {
    "colab": {
      "provenance": []
    },
    "kernelspec": {
      "name": "python3",
      "display_name": "Python 3"
    },
    "language_info": {
      "name": "python"
    }
  },
  "cells": [
    {
      "cell_type": "markdown",
      "source": [
        "# **Question1: Create a function that takes an integer and returns a list from 1 to the given number, where:**"
      ],
      "metadata": {
        "id": "kQOpVOHKPJJB"
      }
    },
    {
      "cell_type": "code",
      "source": [
        "def return_num(num):\n",
        "  num_list=[]\n",
        "  for i in range(1, num+1):\n",
        "    if(i%4==0):\n",
        "      i= i*10\n",
        "    num_list.append(i)\n",
        "  return num_list\n",
        "\n",
        "num = int(input(\"Give a  number\"))\n",
        "print(return_num(num))"
      ],
      "metadata": {
        "colab": {
          "base_uri": "https://localhost:8080/"
        },
        "id": "7-1Ru1DlPOyH",
        "outputId": "4daa28d4-b4ff-4d6e-c005-55bcbe82a592"
      },
      "execution_count": null,
      "outputs": [
        {
          "output_type": "stream",
          "name": "stdout",
          "text": [
            "Give a  number3\n",
            "[1, 2, 3]\n"
          ]
        }
      ]
    },
    {
      "cell_type": "markdown",
      "source": [
        "# **Question2 Create a function that takes a list of numbers and return the number that&#39;s unique.**"
      ],
      "metadata": {
        "id": "5xLAIipsQ-8v"
      }
    },
    {
      "cell_type": "code",
      "source": [
        "#Convert string into int list\n",
        "def retun_list(lis):\n",
        "  num_list=[]\n",
        "  separator = [\",\",\" \", \"[\", \"]\"]\n",
        "  for item in lis:\n",
        "    if item not in separator:\n",
        "      num_list.append(int(item))\n",
        "  return num_list\n",
        "\n",
        "\n",
        "# Convert a list into unique list\n",
        "def return_unique(lis):\n",
        "  index = 1\n",
        "  num_list = retun_list(lis)\n",
        "  unique_list = []\n",
        "  count = {}\n",
        "  for character in num_list:\n",
        "    count.setdefault(character, 0)\n",
        "    count[character] = count[character] +1 \n",
        "\n",
        "  for k, v in count.items():\n",
        "    if v==1:\n",
        "      unique_list.append(k)\n",
        "\n",
        "  return unique_list\n",
        "\n",
        "\n",
        "\n",
        "lisi = input(\"give a list of numbers\")\n",
        "print(return_unique(lisi))\n"
      ],
      "metadata": {
        "colab": {
          "base_uri": "https://localhost:8080/"
        },
        "id": "8z2XLrHnvB4G",
        "outputId": "adb8e177-5134-4f53-b5bf-57eb6385280f"
      },
      "execution_count": null,
      "outputs": [
        {
          "output_type": "stream",
          "name": "stdout",
          "text": [
            "give a list of numbers[3, 3, 3, 7, 3, 3,5]\n",
            "[7, 5]\n"
          ]
        }
      ]
    },
    {
      "cell_type": "markdown",
      "source": [
        "#**Question3: Your task is to create a Circle constructor that creates a circle with a radius provided by an argument. The circles constructed must have two getters getArea() (PIr^2) and getPerimeter() (2PI*r) which give both respective areas and perimeter (circumference). For help with this class, I have provided you with a Rectangle constructor which you can use as a base example.**\n",
        "\n",
        "Examples\n",
        "circy = Circle(11)\n",
        "circy.getArea()\n",
        "Should return 380.132711084365\n",
        "\n",
        "circy = Circle(4.44)\n",
        "circy.getPerimeter()\n",
        "Should return 27.897342763877365\n"
      ],
      "metadata": {
        "id": "NOxOZiMOT5ok"
      }
    },
    {
      "cell_type": "code",
      "source": [
        "class Circle:\n",
        "\n",
        "  def __init__(self, radius):\n",
        "    self.radius = radius\n",
        "\n",
        "  def getArea(self):\n",
        "    area = (22/7)*((self.radius)*(self.radius))\n",
        "    return area\n",
        "\n",
        "  def getPerimeter(self):\n",
        "    area = 2*(22/7)*(self.radius)\n",
        "    return area\n",
        "\n",
        "circy = Circle(11)\n",
        "circy.getArea(), circy.getPerimeter()\n"
      ],
      "metadata": {
        "colab": {
          "base_uri": "https://localhost:8080/"
        },
        "id": "ZWGP7VW2vKYU",
        "outputId": "5c82411e-8154-4038-aa66-39f00b9a7fbb"
      },
      "execution_count": null,
      "outputs": [
        {
          "output_type": "execute_result",
          "data": {
            "text/plain": [
              "(380.2857142857143, 69.14285714285714)"
            ]
          },
          "metadata": {},
          "execution_count": 10
        }
      ]
    },
    {
      "cell_type": "markdown",
      "source": [
        "# **Question4: Create a function that takes a list of strings and return a list, sorted from shortest to longest.**\n"
      ],
      "metadata": {
        "id": "TCHMrAmGwukW"
      }
    },
    {
      "cell_type": "code",
      "source": [
        "def sort_string_list(lis):\n",
        "  count = {}\n",
        "  sort_list=[]\n",
        "  for item in lis:\n",
        "    count[item] = len(item)\n",
        "  \n",
        "  count = dict(sorted(count.items(), key=lambda item: item[1]))\n",
        "  for k,v in count.items():\n",
        "    sort_list.append(k)\n",
        "  return sort_list\n",
        "\n",
        "print(sort_string_list([\"Google\", \"Apple\", \"Microsoft\"]))"
      ],
      "metadata": {
        "colab": {
          "base_uri": "https://localhost:8080/"
        },
        "id": "NfFW094mwwkT",
        "outputId": "fb8d0b64-412a-4cdc-def5-1c3213bdad57"
      },
      "execution_count": 16,
      "outputs": [
        {
          "output_type": "stream",
          "name": "stdout",
          "text": [
            "['Apple', 'Google', 'Microsoft']\n"
          ]
        }
      ]
    },
    {
      "cell_type": "markdown",
      "source": [
        "# **Question5: Create a function that validates whether three given integers form a Pythagorean triplet. The sum of the squares of the two smallest integers must equal the square of the largest number to be validated.**"
      ],
      "metadata": {
        "id": "rldVPEEBuQLS"
      }
    },
    {
      "cell_type": "code",
      "source": [
        "def  Pythagorean_triplet(a,b,c):\n",
        "  lis = [a,b,c]\n",
        "  lis.sort()\n",
        "  if (lis[2]*lis[2] == lis[1]*lis[1] +lis[0]*lis[0] ):\n",
        "    return \"are\"\n",
        "  else:\n",
        "    return \"are not\"\n",
        "\n",
        "\n",
        "\n",
        "print(\"the numbers \"+Pythagorean_triplet(12,13,6)+\" Pythagorean_triplet\")\n"
      ],
      "metadata": {
        "colab": {
          "base_uri": "https://localhost:8080/"
        },
        "id": "zHD7RMCkuUX4",
        "outputId": "0e91d84c-f02e-4931-baf6-9696b219a860"
      },
      "execution_count": 9,
      "outputs": [
        {
          "output_type": "stream",
          "name": "stdout",
          "text": [
            "the numbers are not Pythagorean_triplet\n"
          ]
        }
      ]
    }
  ]
}