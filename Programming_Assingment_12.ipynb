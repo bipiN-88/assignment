{
  "nbformat": 4,
  "nbformat_minor": 0,
  "metadata": {
    "colab": {
      "name": "Programming_Assingment_12.ipynb",
      "provenance": []
    },
    "kernelspec": {
      "name": "python3",
      "display_name": "Python 3"
    },
    "language_info": {
      "name": "python"
    }
  },
  "cells": [
    {
      "cell_type": "markdown",
      "source": [
        "#**1.Write a Python program to Extract Unique values dictionary values?**"
      ],
      "metadata": {
        "id": "nkEgTe_W-fFX"
      }
    },
    {
      "cell_type": "code",
      "source": [
        "test_dict = {'gfg' : [5, 6, 7, 8],\n",
        "             'is' : [10, 11, 7, 5],\n",
        "             'best' : [6, 12, 10, 8],\n",
        "             'for' : [1, 2, 5]}\n",
        "             \n",
        "\n",
        "lisi = [item for k,v in test_dict.items() for item in v] \n",
        "\n",
        "lis1 = list(sorted(ele for item in test_dict.values() for ele in item))\n",
        "lisi = [*set(lisi)]\n",
        "print(lisi)\n"
      ],
      "metadata": {
        "colab": {
          "base_uri": "https://localhost:8080/"
        },
        "id": "xg5taZNq-j7s",
        "outputId": "c8cbf078-3360-447d-8b52-41bd77f4d169"
      },
      "execution_count": 5,
      "outputs": [
        {
          "output_type": "stream",
          "name": "stdout",
          "text": [
            "[1, 2, 5, 6, 7, 8, 10, 11, 12]\n"
          ]
        }
      ]
    },
    {
      "cell_type": "markdown",
      "source": [
        "#**2.Write a Python program to find the sum of all items in a dictionary?**"
      ],
      "metadata": {
        "id": "N9Z3Hb67-7yM"
      }
    },
    {
      "cell_type": "code",
      "source": [
        "test_dict = {'gfg' : [5, 6, 7, 8],\n",
        "             'is' : [10, 11, 7, 5],\n",
        "             'best' : [6, 12, 10, 8],\n",
        "             'for' : [1, 2, 5]}\n",
        "             \n",
        "\n",
        "lisi = [item for k,v in test_dict.items() for item in v] \n",
        "print(sum(lisi))\n"
      ],
      "metadata": {
        "colab": {
          "base_uri": "https://localhost:8080/"
        },
        "id": "cKNxGRDF--Pe",
        "outputId": "0fee69c4-06eb-4ade-c90e-2f8666fd4088"
      },
      "execution_count": 6,
      "outputs": [
        {
          "output_type": "stream",
          "name": "stdout",
          "text": [
            "103\n"
          ]
        }
      ]
    },
    {
      "cell_type": "markdown",
      "source": [
        "#**3 Write a Python program to Merging two Dictionaries?**"
      ],
      "metadata": {
        "id": "0toZz0GJ_BED"
      }
    },
    {
      "cell_type": "code",
      "source": [
        "def merge_dictionary(dict1, dict2):\n",
        "    dict3={}\n",
        "      \n",
        "    for k,v in dict1.items():\n",
        "        dict3[k]=v\n",
        " \n",
        "    for k,v in dict2.items():\n",
        "        dict3[k]=v\n",
        "        \n",
        "    return dict3\n",
        " \n",
        " \n",
        "dict1 = {'a': 10, 'b': 8}\n",
        "dict2 = {'d': 6, 'c': 4}\n",
        " \n",
        "    \n",
        "print(merge_dictionary(dict1, dict2))\n"
      ],
      "metadata": {
        "colab": {
          "base_uri": "https://localhost:8080/"
        },
        "id": "oMXKxfVq_Ujo",
        "outputId": "cfae474a-2439-4603-edeb-2d787ff3c884"
      },
      "execution_count": 2,
      "outputs": [
        {
          "output_type": "stream",
          "name": "stdout",
          "text": [
            "{'a': 10, 'b': 8, 'd': 6, 'c': 4}\n"
          ]
        }
      ]
    },
    {
      "cell_type": "markdown",
      "source": [
        "#**4. Write a Python program to convert key-values list to flat dictionary?**"
      ],
      "metadata": {
        "id": "9NvUAB_U_ca4"
      }
    },
    {
      "cell_type": "code",
      "source": [
        "def convert_flat_dictionary(dict):\n",
        "    \n",
        "    zipped = zip(dict['month'], dict['name'])\n",
        "    \n",
        "    zipped_dict = {k:v for k,v in zipped}\n",
        "            \n",
        "    return zipped_dict\n",
        "\n",
        "\n",
        "test_dict = {'month' : [1, 2, 3],\n",
        "             'name' : ['Jan', 'Feb', 'March']}\n",
        "\n",
        "\n",
        "print(convert_flat_dictionary(test_dict))\n",
        "\n"
      ],
      "metadata": {
        "colab": {
          "base_uri": "https://localhost:8080/"
        },
        "id": "OZfipGxn_bRu",
        "outputId": "48d58f1e-2b9b-40d3-a377-768db931fd28"
      },
      "execution_count": 1,
      "outputs": [
        {
          "output_type": "stream",
          "name": "stdout",
          "text": [
            "{1: 'Jan', 2: 'Feb', 3: 'March'}\n"
          ]
        }
      ]
    },
    {
      "cell_type": "markdown",
      "source": [
        "#**5. Write a Python program to insertion at the beginning in OrderedDict?**"
      ],
      "metadata": {
        "id": "7H6L_Dn7_bqo"
      }
    },
    {
      "cell_type": "code",
      "source": [
        "from collections import OrderDict\n",
        " \n",
        "dict = OrderDict([('A':'Abhishek'),('B':'Bharat'),('C':'Chetan')])\n",
        "dict1= OrderDict([('D':'Deepak')])\n",
        " \n",
        "dict_res = OrderDict(list(dict1.items())+list(dict.items()))"
      ],
      "metadata": {
        "id": "Ay0R3bds_zcB"
      },
      "execution_count": null,
      "outputs": []
    },
    {
      "cell_type": "markdown",
      "source": [
        "#**6.Write a Python program to check order of character in string using OrderedDict()?**"
      ],
      "metadata": {
        "id": "-g-UMghU_3es"
      }
    },
    {
      "cell_type": "code",
      "source": [
        "from collections import OrderedDict \n",
        "\n",
        "def check_char_order(str, pattern): \n",
        "    dic = OrderedDict.fromkeys(str) \n",
        "    index = 0\n",
        "    for key,value in dic.items(): \n",
        "        if (key == pattern[index ]): \n",
        "            index = index + 1\n",
        "        if (index == (len(pattern))): \n",
        "            return 'True'\n",
        "    return 'False'\n",
        "\n",
        "str= 'Study tonight'\n",
        "pattern = 'stu'\n",
        "print (check_char_order(str,pattern))\n"
      ],
      "metadata": {
        "id": "rZNO83cJ_3DS"
      },
      "execution_count": null,
      "outputs": []
    },
    {
      "cell_type": "markdown",
      "source": [
        "#**7. Write a Python program to sort Python Dictionaries by Key or Value?**\n"
      ],
      "metadata": {
        "id": "IWh76nmN__um"
      }
    },
    {
      "cell_type": "code",
      "source": [
        "def sort_by_index(dict):\n",
        "    dict_new = {}\n",
        "    lis = [k for k,v in dict.items()]\n",
        "    lis.sort()\n",
        "    for i in lis:\n",
        "        dict_new[i] =  dict[i]\n",
        "        \n",
        "    return dict_new\n",
        "\n",
        "def sort_by_value(dict):\n",
        "    dict_new = {}\n",
        "    lis = [v for k,v in dict.items()]\n",
        "    lis.sort()\n",
        "    keys =[]\n",
        "    for i in lis:\n",
        "        key = [k for k,v in dict.items() if v==i]\n",
        "        keys = keys+key\n",
        "    for key in keys:\n",
        "        dict_new[key] =  dict[key]\n",
        "    return dict_new\n",
        "\n",
        "\n",
        "dict = {'a': 10, 'b': 8, 'd': 6, 'c': 4}\n",
        "\n",
        "print(sort_by_value(dict))\n"
      ],
      "metadata": {
        "colab": {
          "base_uri": "https://localhost:8080/"
        },
        "id": "y0CVlhH3ALrB",
        "outputId": "342c1910-5f23-4d32-fd33-70ae40a24c76"
      },
      "execution_count": 4,
      "outputs": [
        {
          "output_type": "stream",
          "name": "stdout",
          "text": [
            "{'c': 4, 'd': 6, 'b': 8, 'a': 10}\n"
          ]
        }
      ]
    }
  ]
}