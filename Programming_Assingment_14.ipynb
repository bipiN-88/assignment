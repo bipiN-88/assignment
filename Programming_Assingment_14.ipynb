{
  "nbformat": 4,
  "nbformat_minor": 0,
  "metadata": {
    "colab": {
      "provenance": []
    },
    "kernelspec": {
      "name": "python3",
      "display_name": "Python 3"
    },
    "language_info": {
      "name": "python"
    }
  },
  "cells": [
    {
      "cell_type": "markdown",
      "source": [
        "#**Question1.**\n",
        "\n",
        "**Define a class with a generator which can iterate the numbers, which are divisible by 7, between a given range 0 and n.**\n"
      ],
      "metadata": {
        "id": "dck3RlGDXdFX"
      }
    },
    {
      "cell_type": "code",
      "source": [
        "def my_gen(num):\n",
        "  n =1\n",
        "  while(n<num):\n",
        "    if n%7==0:\n",
        "      yield n\n",
        "    n=n+1\n",
        "\n",
        "num = int(input(\"enter a number\"))\n",
        "num_list = []\n",
        "\n",
        "for i in my_gen(num):\n",
        "  num_list.append(str(i))\n",
        "print(\",\".join(num_list))"
      ],
      "metadata": {
        "colab": {
          "base_uri": "https://localhost:8080/"
        },
        "id": "J7kFCIwHXcjG",
        "outputId": "5d472519-c28b-4f67-af94-8be7e8af553d"
      },
      "execution_count": null,
      "outputs": [
        {
          "output_type": "stream",
          "name": "stdout",
          "text": [
            "enter a number15\n",
            "7,14\n"
          ]
        }
      ]
    },
    {
      "cell_type": "markdown",
      "source": [
        "#**Question2.**\n",
        "\n",
        "Write a program to compute the frequency of the words from the input. The output should output after sorting the key alphanumerically. \n",
        "\n",
        "\n",
        "\n",
        "\n",
        "Suppose the following input is supplied to the program:\n",
        "\n",
        "\n",
        "\n",
        "\n",
        "New to Python or choosing between Python 2 and Python 3? Read Python 2 or Python 3.\n",
        "\n",
        "\n",
        "\n",
        "\n",
        "Then, the output should be:\n",
        "\n",
        "\n",
        "\n",
        "\n",
        "2:2\n",
        "\n",
        "\n",
        "\n",
        "\n",
        "3.:1\n",
        "\n",
        "\n",
        "\n",
        "\n",
        "3?:1\n",
        "\n",
        "\n",
        "\n",
        "\n",
        "New:1\n",
        "\n",
        "\n",
        "\n",
        "\n",
        "Python:5\n",
        "\n",
        "\n",
        "\n",
        "\n",
        "Read:1\n",
        "\n",
        "\n",
        "\n",
        "\n",
        "and:1\n",
        "\n",
        "\n",
        "\n",
        "\n",
        "between:1\n",
        "\n",
        "\n",
        "\n",
        "choosing:1\n",
        "\n",
        "\n",
        "\n",
        "\n",
        "or:2\n",
        "\n",
        "\n",
        "\n",
        "to:1\n",
        "\n"
      ],
      "metadata": {
        "id": "cDxgpb326VwT"
      }
    },
    {
      "cell_type": "code",
      "source": [
        "def find_frequency(str):\n",
        "  count={}\n",
        "  lis = str.split(\" \")\n",
        "  for item in lis:\n",
        "    count.setdefault(item,0)\n",
        "    count[item]=count[item]+1\n",
        "  return count\n",
        "\n",
        "str=\"New to Python or choosing between Python 2 and Python 3? Read Python 2 or Python 3.\" \n",
        "print(find_frequency(str))"
      ],
      "metadata": {
        "colab": {
          "base_uri": "https://localhost:8080/"
        },
        "id": "rJM-Mbf_oZhi",
        "outputId": "d97f1368-e30e-4d07-b5b4-292e077acefb"
      },
      "execution_count": null,
      "outputs": [
        {
          "output_type": "stream",
          "name": "stdout",
          "text": [
            "{'New': 1, 'to': 1, 'Python': 5, 'or': 2, 'choosing': 1, 'between': 1, '2': 2, 'and': 1, '3?': 1, 'Read': 1, '3.': 1}\n"
          ]
        }
      ]
    },
    {
      "cell_type": "code",
      "source": [
        "def simpleGeneratorFun():\n",
        "    yield 1           \n",
        "    yield 2           \n",
        "    yield 3           \n",
        "  \n",
        "# Driver code to check above generator function\n",
        "for value in simpleGeneratorFun():\n",
        "    print(value)"
      ],
      "metadata": {
        "id": "JpgJVWttBJuZ",
        "outputId": "756eb67d-0e15-4396-d61e-81163d2f0f25",
        "colab": {
          "base_uri": "https://localhost:8080/"
        }
      },
      "execution_count": null,
      "outputs": [
        {
          "output_type": "stream",
          "name": "stdout",
          "text": [
            "1\n",
            "2\n",
            "3\n"
          ]
        }
      ]
    },
    {
      "cell_type": "markdown",
      "source": [
        "#**Question3.**\n",
        "Define a class Person and its two child classes: Male and Female. All classes have a method \"getGender\" which can print \"Male\" for Male class and \"Female\" for Female class.\n"
      ],
      "metadata": {
        "id": "XZlnjFGk11Mc"
      }
    },
    {
      "cell_type": "code",
      "source": [
        "class Person():\n",
        "  def getGender(self):\n",
        "    pass\n",
        "\n",
        "class Male(Person):\n",
        "  def getGender(self):\n",
        "    print(\"Male\")\n",
        "\n",
        "class Female(Person):\n",
        "  def getGender(self):\n",
        "    print(\"Female\")\n",
        "\n",
        "person = Person()\n",
        "male = Male()\n",
        "female = Female()\n",
        "male.getGender()\n",
        "female.getGender()\n"
      ],
      "metadata": {
        "colab": {
          "base_uri": "https://localhost:8080/"
        },
        "id": "Tqnw2fVl-3NE",
        "outputId": "06b6a5cc-543f-4277-8565-afb62ec24e60"
      },
      "execution_count": null,
      "outputs": [
        {
          "output_type": "stream",
          "name": "stdout",
          "text": [
            "Male\n",
            "Female\n"
          ]
        }
      ]
    },
    {
      "cell_type": "markdown",
      "source": [
        "#**Question4.**\n",
        "\n",
        "Please write a program to generate all sentences where subject is in [\"I\", \"You\"] and verb is in [\"Play\", \"Love\"] and the object is in [\"Hockey\",\"Football\"].\n",
        "\n",
        "\n"
      ],
      "metadata": {
        "id": "mKR-rwZ32u8E"
      }
    },
    {
      "cell_type": "code",
      "source": [
        "subject =  [\"I\", \"You\"] \n",
        "verb =[\"Play\", \"Love\"]\n",
        "object =  [\"Hockey\",\"Football\"]\n",
        "space = \" \"\n",
        "\n",
        "sentences = [ x+space+y+space+z for x in subject for y in verb for z in object]\n",
        "print(sentences)"
      ],
      "metadata": {
        "colab": {
          "base_uri": "https://localhost:8080/"
        },
        "id": "7Jnco_kI9Kii",
        "outputId": "9ace8332-2ddc-4e56-e910-6d4595101cd9"
      },
      "execution_count": null,
      "outputs": [
        {
          "output_type": "stream",
          "name": "stdout",
          "text": [
            "['I Play Hockey', 'I Play Football', 'I Love Hockey', 'I Love Football', 'You Play Hockey', 'You Play Football', 'You Love Hockey', 'You Love Football']\n"
          ]
        }
      ]
    },
    {
      "cell_type": "markdown",
      "source": [
        "#**Question 5**\n",
        "\n",
        "**Please write a program to compress and decompress the string \"hello world!hello world!hello world!hello world!\".**\n"
      ],
      "metadata": {
        "id": "-9t0CFoLqk1e"
      }
    },
    {
      "cell_type": "code",
      "execution_count": null,
      "metadata": {
        "colab": {
          "base_uri": "https://localhost:8080/"
        },
        "id": "_dPkCMSMqhqB",
        "outputId": "78b06b6b-408b-40ef-b5cd-5a9acd557605"
      },
      "outputs": [
        {
          "output_type": "stream",
          "name": "stdout",
          "text": [
            "b'x\\x9c\\xcbH\\xcd\\xc9\\xc9W(\\xcf/\\xcaIQ\\xcc \\x82\\r\\x00\\xbd[\\x11\\xf5'\n",
            "hello world!hello world!hello world!hello world!\n"
          ]
        }
      ],
      "source": [
        "import zlib\n",
        "str = \"hello world!hello world!hello world!hello world!\"\n",
        "comp = zlib.compress(str.encode())\n",
        "print(comp)\n",
        "decomp = zlib.decompress(comp).decode()\n",
        "print(decomp)"
      ]
    },
    {
      "cell_type": "markdown",
      "source": [
        "#**Question 6**\n",
        "\n",
        "**Please write a binary search function which searches an item in a sorted list. The function should return the index of element to be searched in the list.**\n"
      ],
      "metadata": {
        "id": "LtLK_lsiPHvs"
      }
    },
    {
      "cell_type": "code",
      "source": [
        "def binary_search(lis, key):\n",
        "  start  = 0\n",
        "  end= len(lis)\n",
        "  while (start<end):\n",
        "    mid = (start+end)//2\n",
        "    if lis[mid]<key:\n",
        "      start = mid+1\n",
        "    elif lis[mid]>key:\n",
        "      end = mid\n",
        "    else:\n",
        "      return mid\n",
        "\n",
        "  return \"number not in the list\"\n",
        "\n",
        "\n",
        "lis = [1, 2, 3, 4, 5, 6, 9]\n",
        "print(binary_search(lis, 8))\n"
      ],
      "metadata": {
        "colab": {
          "base_uri": "https://localhost:8080/"
        },
        "id": "_v-r2wKcnRLw",
        "outputId": "5403a323-d5bf-4bca-91df-ae01860822ea"
      },
      "execution_count": 12,
      "outputs": [
        {
          "output_type": "stream",
          "name": "stdout",
          "text": [
            "number not in the list\n"
          ]
        }
      ]
    }
  ]
}