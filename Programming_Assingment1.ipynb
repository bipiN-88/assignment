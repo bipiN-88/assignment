{
  "nbformat": 4,
  "nbformat_minor": 0,
  "metadata": {
    "colab": {
      "name": "Programming_Assingment1.ipynb",
      "provenance": []
    },
    "kernelspec": {
      "name": "python3",
      "display_name": "Python 3"
    },
    "language_info": {
      "name": "python"
    }
  },
  "cells": [
    {
      "cell_type": "markdown",
      "source": [
        "#1. **Write a Python program to print \"Hello Python\"**?\n",
        "\n",
        "\n"
      ],
      "metadata": {
        "id": "2rafDVV1tlIF"
      }
    },
    {
      "cell_type": "code",
      "source": [
        "print(\"Hello Python\")"
      ],
      "metadata": {
        "id": "15y_hVmatpGg"
      },
      "execution_count": null,
      "outputs": []
    },
    {
      "cell_type": "markdown",
      "source": [
        "# **2.   Write a Python program to do arithmetical operations addition and division?**:"
      ],
      "metadata": {
        "id": "BwjJpYtRtzQm"
      }
    },
    {
      "cell_type": "code",
      "source": [
        "def addition(a,b):                         \t            # function for addition \n",
        "  return a+b\n",
        "\n",
        "def division(a,b):\t\t\t\t\t    # function for division\n",
        "  return a/b\n",
        "\n",
        "print(\"enter the numbers for operation\")# Seeking numbers from the users \n",
        "a = int(input())\n",
        "b = int(input())\n",
        "\n",
        "print(\"addition-result\", addition(a,b))\n",
        "print(\"division-result\", division(a,b))\n"
      ],
      "metadata": {
        "colab": {
          "base_uri": "https://localhost:8080/"
        },
        "id": "fBkth71At3zm",
        "outputId": "fea4d469-7f09-462c-d280-54f66c3da794"
      },
      "execution_count": 2,
      "outputs": [
        {
          "output_type": "stream",
          "name": "stdout",
          "text": [
            "enter the numbers for operation\n",
            "24\n",
            "4\n",
            "addition-result 28\n",
            "division-result 6.0\n"
          ]
        }
      ]
    },
    {
      "cell_type": "markdown",
      "source": [
        "# 3.\t**Write a Python program to find the area of a triangle?**\n",
        "---\n",
        "\n"
      ],
      "metadata": {
        "id": "xFTWrUYMuHGC"
      }
    },
    {
      "cell_type": "code",
      "source": [
        "import math \t               #importing math library for square root function use\n",
        "\n",
        "def area_triangle(a,b,c):  \t\t# function for area of traingle\n",
        "    s = (a+b+c)/2\n",
        "    area = math.sqrt(s*(s-a)*(s-b)*(s-c))\n",
        "    return area\n",
        "\n",
        "print(\"enter the length of sides of the triangle\")\n",
        "a = float(input())\n",
        "b = float(input())\n",
        "c = float(input())\n",
        "\n",
        "print(\"are of the triangle is \", area_triangle(a,b,c))\n"
      ],
      "metadata": {
        "colab": {
          "base_uri": "https://localhost:8080/"
        },
        "id": "W9F7V_tQuK4M",
        "outputId": "1a637549-abc1-4b87-8634-747e46252da6"
      },
      "execution_count": 5,
      "outputs": [
        {
          "output_type": "stream",
          "name": "stdout",
          "text": [
            "enter the length of sides of the triangle\n",
            "4\n",
            "3\n",
            "5\n",
            "are of the triangle is  6.0\n"
          ]
        }
      ]
    },
    {
      "cell_type": "markdown",
      "source": [
        "# 4.\t**Write a Python program to swap two variables?**"
      ],
      "metadata": {
        "id": "TDRXErzHuQMr"
      }
    },
    {
      "cell_type": "code",
      "source": [
        "print(\"enter the two numbers for swapping\")\n",
        "a = float(input())\n",
        "b = float(input())\n",
        "temp = a\n",
        "a = b\n",
        "b = temp\n",
        "print(\"swapped values are\", a, b)\n",
        " \n",
        "\n"
      ],
      "metadata": {
        "id": "BfttXh84uUUl"
      },
      "execution_count": null,
      "outputs": []
    },
    {
      "cell_type": "markdown",
      "source": [
        "# 5.\t**Write a Python program to generate a random number?**"
      ],
      "metadata": {
        "id": "RpATFUKkuZZu"
      }
    },
    {
      "cell_type": "code",
      "source": [
        "import random               #importing math library for square root function use\n",
        "\n",
        "random_number = random.randint(0,30)\n",
        "print(random_number)\n"
      ],
      "metadata": {
        "id": "g-xKW7ApudT7"
      },
      "execution_count": null,
      "outputs": []
    }
  ]
}