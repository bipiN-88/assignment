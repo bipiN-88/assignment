{
  "cells": [
    {
      "cell_type": "markdown",
      "metadata": {
        "id": "2rafDVV1tlIF"
      },
      "source": [
        "# **1. Write a Python Program to Add Two Matrices?**# \n",
        "\n",
        "\n",
        "\n"
      ]
    },
    {
      "cell_type": "code",
      "execution_count": null,
      "metadata": {
        "colab": {
          "base_uri": "https://localhost:8080/"
        },
        "id": "15y_hVmatpGg",
        "outputId": "61a86283-bbd4-45ab-f8fd-1b3cbfc918ca"
      },
      "outputs": [
        {
          "output_type": "stream",
          "name": "stdout",
          "text": [
            "[[10, 10, 10], [10, 10, 10], [10, 10, 10]]\n"
          ]
        }
      ],
      "source": [
        "def add_matrices(X, Y):\n",
        "  for i in range(len(X)):\n",
        "    for j in range(len(X[i])):\n",
        "      X[i][j]= X[i][j]+Y[i][j]\n",
        "  return X\n",
        "\n",
        "\n",
        "X = [[1,2,3],\n",
        "    [4 ,5,6],\n",
        "    [7 ,8,9]]\n",
        " \n",
        "Y = [[9,8,7],\n",
        "    [6,5,4],\n",
        "    [3,2,1]]\n",
        " \n",
        "print(add_matrices(X, Y))\n"
      ]
    },
    {
      "cell_type": "markdown",
      "metadata": {
        "id": "BwjJpYtRtzQm"
      },
      "source": [
        "# **2.Write a Python Program to Multiply Two Matrices?**"
      ]
    },
    {
      "cell_type": "code",
      "execution_count": null,
      "metadata": {
        "colab": {
          "base_uri": "https://localhost:8080/"
        },
        "id": "fBkth71At3zm",
        "outputId": "e9050ccd-61aa-4c88-d663-e3ad836e9b3e"
      },
      "outputs": [
        {
          "output_type": "stream",
          "name": "stdout",
          "text": [
            "[[30, 24, 18, 26], [84, 69, 54, 68], [138, 114, 90, 110]]\n"
          ]
        }
      ],
      "source": [
        "def mul_matrices(X, Y):\n",
        "  sum = 0\n",
        "  X_row = len(X)\n",
        "  X_col = len(X[0])\n",
        "  Y_row = len(Y)\n",
        "  Y_col = len(Y[0])\n",
        "  buckets = [[0 for col in range(Y_col)] for row in range(X_row)]\n",
        "\n",
        "  if  (X_col != Y_row):\n",
        "    return \"column size of X-matrix must be equal to row-size of Y-matrix\"\n",
        "  else:\n",
        "    for i in range(X_row):\n",
        "      for k in range(Y_col):\n",
        "        for j in range(X_col):\n",
        "          sum= sum + X[i][j]*Y[j][k]\n",
        "        buckets[i][k]= sum\n",
        "        sum = 0\n",
        "    return buckets\n",
        "\n",
        "\n",
        "X = [[1,2,3],\n",
        "    [4 ,5,6],\n",
        "    [7 ,8,9]]\n",
        " \n",
        "Y = [[9,8,7,5],\n",
        "    [6,5,4,6],\n",
        "    [3,2,1,3]]\n",
        "\n",
        "\n",
        "print(mul_matrices(X, Y))\n"
      ]
    },
    {
      "cell_type": "markdown",
      "metadata": {
        "id": "xFTWrUYMuHGC"
      },
      "source": [
        "#**3.\tWrite a Python Program to Transpose a Matrix?**\n",
        "---\n",
        "\n"
      ]
    },
    {
      "cell_type": "code",
      "execution_count": 2,
      "metadata": {
        "colab": {
          "base_uri": "https://localhost:8080/"
        },
        "id": "W9F7V_tQuK4M",
        "outputId": "abd83e96-9c70-4c9f-f602-1f64728322ef"
      },
      "outputs": [
        {
          "output_type": "stream",
          "name": "stdout",
          "text": [
            "[[2, 13, 3, 4], [-9, 11, 6, 13], [3, -17, 5, 1]]\n"
          ]
        }
      ],
      "source": [
        "def tranpose_matrix(matrix):\n",
        "    matrix_row= len(matrix)\n",
        "    matrix_col= len(matrix[0])\n",
        "    lis = [[0 for i in range(matrix_row)] for l in range(matrix_col)]\n",
        "    for j in range(matrix_row):\n",
        "        for i in range(matrix_col):\n",
        "           lis[i][j]=matrix[j][i]\n",
        "    \n",
        "    return lis\n",
        "    \n",
        "\n",
        "m = [[2, -9,  3], [13, 11, -17], [3, 6, 5], [4, 13, 1]] \n",
        "   \n",
        "print(tranpose_matrix(m))\n"
      ]
    },
    {
      "cell_type": "markdown",
      "metadata": {
        "id": "TDRXErzHuQMr"
      },
      "source": [
        "# **4.Write a Python Program to Sort Words in Alphabetic Order?**\n",
        "\n",
        "\n"
      ]
    },
    {
      "cell_type": "code",
      "execution_count": null,
      "metadata": {
        "id": "BfttXh84uUUl",
        "colab": {
          "base_uri": "https://localhost:8080/"
        },
        "outputId": "2180c82f-eb69-46a2-afe3-aa7310bef341"
      },
      "outputs": [
        {
          "output_type": "stream",
          "name": "stdout",
          "text": [
            "I always wanted to ask a magician, 'How does you do it?'; he luckily got the chance while he was living above a math-based magic shop (where he lived from 1993 - 1997) called 2{1+[23-3]}=x\n",
            "['', '1993', '1997', '21+233=x', 'a', 'a', 'above', 'always', 'ask', 'called', 'chance', 'do', 'does', 'from', 'got', 'he', 'he', 'he', 'how', 'i', 'it', 'lived', 'living', 'luckily', 'magic', 'magician', 'mathbased', 'shop', 'the', 'to', 'wanted', 'was', 'where', 'while', 'you']\n"
          ]
        }
      ],
      "source": [
        "def remove_punc(str):\n",
        "  punc = '''!()-[]{};:'\"\\,<>./?@#$%^&*_~'''\n",
        "  for i in str:\n",
        "    if i in punc:\n",
        "      str = str.replace(i,\"\")\n",
        "  return str\n",
        " \n",
        "str = input()\n",
        "str = remove_punc(str).lower()\n",
        "lis = str.split(\" \")\n",
        "lis.sort()\n",
        "print(lis)\n",
        "\n"
      ]
    },
    {
      "cell_type": "markdown",
      "metadata": {
        "id": "RpATFUKkuZZu"
      },
      "source": [
        "# **5.\tWrite a Python Program to Remove Punctuation From a String?**\n",
        "\n"
      ]
    },
    {
      "cell_type": "code",
      "execution_count": null,
      "metadata": {
        "id": "s7XuQivF4X9v",
        "colab": {
          "base_uri": "https://localhost:8080/"
        },
        "outputId": "b22decec-82dc-4f96-f3fd-415d58fb4f2c"
      },
      "outputs": [
        {
          "output_type": "stream",
          "name": "stdout",
          "text": [
            "the number of elements you want in the array7\n",
            "\n",
            "Enter the numbers:1 2 3 4 5 6 7\n",
            "The array is monotic: True\n"
          ]
        }
      ],
      "source": [
        "def remove_punc(str):\n",
        "  punc = '''!()-[]{};:'\"\\,<>./?@#$%^&*_~'''\n",
        "  for i in str:\n",
        "    if i in punc:\n",
        "      str = str.replace(i,\"\")\n",
        "  return str\n",
        " \n",
        "str = input()\n",
        "print(remove_punc(str))"
      ]
    }
  ],
  "metadata": {
    "colab": {
      "name": "Programming_Assingment_8.ipynb",
      "provenance": []
    },
    "kernelspec": {
      "display_name": "Python 3",
      "name": "python3"
    },
    "language_info": {
      "name": "python"
    }
  },
  "nbformat": 4,
  "nbformat_minor": 0
}