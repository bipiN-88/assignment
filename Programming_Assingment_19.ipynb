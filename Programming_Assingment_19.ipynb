{
  "nbformat": 4,
  "nbformat_minor": 0,
  "metadata": {
    "colab": {
      "provenance": []
    },
    "kernelspec": {
      "name": "python3",
      "display_name": "Python 3"
    },
    "language_info": {
      "name": "python"
    }
  },
  "cells": [
    {
      "cell_type": "markdown",
      "source": [
        "# **Question1**\n",
        "Create a function that takes a string and returns a string in which each character is repeated\n",
        "once.\n",
        "Examples\n",
        "double_char(&quot;String&quot;) ➞ &quot;SSttrriinngg&quot;\n",
        "double_char(&quot;Hello World!&quot;) ➞ &quot;HHeelllloo WWoorrlldd!!&quot;\n",
        "double_char(&quot;1234!_ &quot;) ➞ &quot;11223344!!__ &quot;"
      ],
      "metadata": {
        "id": "Y8HGItqlf4JD"
      }
    },
    {
      "cell_type": "code",
      "execution_count": null,
      "metadata": {
        "colab": {
          "base_uri": "https://localhost:8080/"
        },
        "id": "MFCd9Tlsf2KH",
        "outputId": "ec9e9a1e-d331-46ed-92d3-a064dd88c864"
      },
      "outputs": [
        {
          "output_type": "stream",
          "name": "stdout",
          "text": [
            "11223344!!__  \n",
            "SSttrriinngg\n",
            "HHeelllloo  WWoorrlldd!!\n"
          ]
        }
      ],
      "source": [
        "def double_char(str):\n",
        "  ret_str = \"\"\n",
        "  for char in str:\n",
        "    ret_str= ret_str+ char*2\n",
        "  return ret_str\n",
        "print(double_char(\"1234!_ \"))\n",
        "print(double_char(\"String\"))\n",
        "print( double_char(\"Hello World!\"))"
      ]
    },
    {
      "cell_type": "markdown",
      "source": [
        "# **Question2**\n",
        "**Create a function that reverses a boolean value and returns the string \"boolean expected\" if another variable type is given.**\n",
        "\n",
        "Examples\n",
        "reverse(True) ➞ False\n",
        "reverse(False) ➞ True\n",
        "reverse(0) ➞ &quot;boolean expected&quot;\n",
        "reverse(None) ➞ &quot;boolean expected&quot;"
      ],
      "metadata": {
        "id": "PhaJeFqug0yM"
      }
    },
    {
      "cell_type": "code",
      "source": [
        "def reverse(bool):\n",
        "  bool = str(bool)\n",
        "  if bool ==\"True\":\n",
        "    return False\n",
        "  elif bool == \"False\":\n",
        "    return True\n",
        "  else:\n",
        "    return \"boolean expected\"\n",
        "\n",
        "print(reverse(True))\n",
        "print(reverse(False))\n",
        "print(reverse(0))\n",
        "print(reverse(None))"
      ],
      "metadata": {
        "colab": {
          "base_uri": "https://localhost:8080/"
        },
        "id": "-kChJakag0b7",
        "outputId": "52a6d4ed-cd7d-438f-d0fd-966a5497ad25"
      },
      "execution_count": null,
      "outputs": [
        {
          "output_type": "stream",
          "name": "stdout",
          "text": [
            "False\n",
            "True\n",
            "boolean expected\n",
            "boolean expected\n"
          ]
        }
      ]
    },
    {
      "cell_type": "markdown",
      "source": [
        "# **Question3**\n",
        "**Create a function that returns the thickness (in meters) of a piece of paper after folding it n number of times. The paper starts off with a thickness of 0.5mm.**\n",
        "\n",
        "\n",
        "# Examples\n",
        "num_layers(1) ➞ \"0.001m\"\n",
        "# Paper folded once is 1mm (equal to 0.001m)\n",
        "num_layers(4) ➞ \"0.008m\"\n",
        "# Paper folded 4 times is 8mm (equal to 0.008m)\n",
        "num_layers(21) ➞ \"1048.576m\"\n",
        "# Paper folded 21 times is 1048576mm (equal to 1048.576m)\n"
      ],
      "metadata": {
        "id": "I8Np1EPoT7qJ"
      }
    },
    {
      "cell_type": "code",
      "source": [
        "def num_layers(num):\n",
        "  turns = 0.5*pow(2,num)\n",
        "  return turns\n",
        "\n",
        "print(num_layers(1))\n",
        "print(num_layers(4))\n",
        "print(num_layers(21))"
      ],
      "metadata": {
        "colab": {
          "base_uri": "https://localhost:8080/"
        },
        "id": "1_JBaKv5UA34",
        "outputId": "ca15c46d-5f5e-4d82-ddfb-d2a43d8fc4bf"
      },
      "execution_count": 2,
      "outputs": [
        {
          "output_type": "stream",
          "name": "stdout",
          "text": [
            "1.0\n",
            "8.0\n",
            "1048576.0\n"
          ]
        }
      ]
    },
    {
      "cell_type": "markdown",
      "source": [
        "# **Question4**\n",
        "\n",
        "**Create a function that takes a single string as argument and returns an ordered list containing the indices of all capital letters in the string.**\n",
        "\n",
        "\n",
        "Examples\n",
        "index_of_caps(\"eDaBiT\") ➞ [1, 3, 5]\n",
        "\n",
        "index_of_caps(\"eQuINoX\") ➞ [1, 3, 4, 6]\n",
        "\n",
        "index_of_caps(\"determine\") ➞ []\n",
        "\n",
        "index_of_caps(\"STRIKE\") ➞ [0, 1, 2, 3, 4, 5]\n",
        "\n",
        "index_of_caps(\"sUn\") ➞ [1]"
      ],
      "metadata": {
        "id": "1qBQo9lJVAEK"
      }
    },
    {
      "cell_type": "code",
      "source": [
        "def index_of_caps(str):\n",
        "  index_lis = []\n",
        "  for index, item in enumerate(str):\n",
        "    if item.isupper():\n",
        "      index_lis.append(index)\n",
        "  \n",
        "  return index_lis\n",
        "\n",
        "\n",
        "print(index_of_caps(\"eQuINoX\") )\n",
        "print(index_of_caps(\"determine\") )\n",
        "print(index_of_caps(\"eDaBiT\") )\n",
        "print(index_of_caps(\"STRIKE\") )\n",
        "print(index_of_caps(\"sUn\"))\n"
      ],
      "metadata": {
        "colab": {
          "base_uri": "https://localhost:8080/"
        },
        "id": "PVhHPPF_WY8w",
        "outputId": "a0c7ad7f-f1e1-4a70-83ad-6c8f5447014e"
      },
      "execution_count": 4,
      "outputs": [
        {
          "output_type": "stream",
          "name": "stdout",
          "text": [
            "[1, 3, 4, 6]\n",
            "[]\n",
            "[1, 3, 5]\n",
            "[0, 1, 2, 3, 4, 5]\n",
            "[1]\n"
          ]
        }
      ]
    },
    {
      "cell_type": "markdown",
      "source": [
        "# **Question5**\n",
        "\n",
        "**Using list comprehensions, create a function that finds all even numbers from 1 to the given number.**\n",
        "\n",
        "\n",
        "Examples\n",
        "find_even_nums(8) ➞ [2, 4, 6, 8]\n",
        "\n",
        "find_even_nums(4) ➞ [2, 4]\n",
        "\n",
        "find_even_nums(2) ➞ [2]\n",
        "\n"
      ],
      "metadata": {
        "id": "gPJu7fTHiecG"
      }
    },
    {
      "cell_type": "code",
      "source": [
        "def find_even_nums(num):\n",
        "  even_no_list = [i for i in range(num) if i%2==0]\n",
        "  return even_no_list\n",
        "\n",
        "print(find_even_nums(4))\n",
        "print(find_even_nums(2))\n",
        "print(find_even_nums(8))\n"
      ],
      "metadata": {
        "id": "V5TOVCnjU9i8",
        "colab": {
          "base_uri": "https://localhost:8080/"
        },
        "outputId": "092d44db-afcc-4e58-d44a-b4c8606564f4"
      },
      "execution_count": 5,
      "outputs": [
        {
          "output_type": "stream",
          "name": "stdout",
          "text": [
            "[0, 2]\n",
            "[0]\n",
            "[0, 2, 4, 6]\n"
          ]
        }
      ]
    }
  ]
}