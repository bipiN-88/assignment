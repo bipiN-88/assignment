{
  "cells": [
    {
      "cell_type": "markdown",
      "metadata": {
        "id": "2rafDVV1tlIF"
      },
      "source": [
        "#**1.\tWrite a Python Program to Find LCM??** \" \n",
        "\n",
        "\n",
        "\n",
        "\n"
      ]
    },
    {
      "cell_type": "code",
      "execution_count": 1,
      "metadata": {
        "colab": {
          "base_uri": "https://localhost:8080/"
        },
        "id": "15y_hVmatpGg",
        "outputId": "f63d4e1f-0459-42f4-b565-e3613707c9d3"
      },
      "outputs": [
        {
          "output_type": "stream",
          "name": "stdout",
          "text": [
            "24\n",
            "72\n",
            "72\n"
          ]
        }
      ],
      "source": [
        "def find_lcm(num1,num2):\n",
        "    greater = num1\n",
        "    if num1<num2:\n",
        "        greater = num2\n",
        "    while(True):\n",
        "        if((greater%num1==0)and(greater%num2==0)):\n",
        "            return greater\n",
        "        greater = greater+1\n",
        "number1 = int(input())\n",
        "number2 = int(input())\n",
        "print(find_lcm(number1, number2))   \n"
      ]
    },
    {
      "cell_type": "markdown",
      "metadata": {
        "id": "BwjJpYtRtzQm"
      },
      "source": [
        "# **2. Write a Python Program to Find HCF?**:"
      ]
    },
    {
      "cell_type": "code",
      "execution_count": 2,
      "metadata": {
        "colab": {
          "base_uri": "https://localhost:8080/"
        },
        "id": "fBkth71At3zm",
        "outputId": "d58b18af-17ce-48e5-8053-19b2665e84ec"
      },
      "outputs": [
        {
          "output_type": "stream",
          "name": "stdout",
          "text": [
            "24\n",
            "72\n",
            "24\n"
          ]
        }
      ],
      "source": [
        "def find_hcf(num1,num2):\n",
        "    smaller = num1\n",
        "    if num1>num2:\n",
        "        smaller = num2\n",
        "    i = 1\n",
        "    while(i<=smaller):\n",
        "        if((num1%i==0)and(num2%i==0)):\n",
        "            hcf = i\n",
        "        i = i+1\n",
        "    return hcf\n",
        "number1 = int(input())\n",
        "number2 = int(input())\n",
        "print(find_hcf(number1, number2))   \n"
      ]
    },
    {
      "cell_type": "markdown",
      "metadata": {
        "id": "xFTWrUYMuHGC"
      },
      "source": [
        "#**3.\tWrite a Python Program to Convert Decimal to Binary, Octal and Hexadecimal?**\n",
        "---\n",
        "\n"
      ]
    },
    {
      "cell_type": "markdown",
      "source": [
        "#**a)Decimal to Binary**"
      ],
      "metadata": {
        "id": "BFGbrNu1ZEx6"
      }
    },
    {
      "cell_type": "code",
      "execution_count": 3,
      "metadata": {
        "colab": {
          "base_uri": "https://localhost:8080/"
        },
        "id": "W9F7V_tQuK4M",
        "outputId": "0794f7df-4e81-4b5a-e5c3-daec15f34ad5"
      },
      "outputs": [
        {
          "output_type": "stream",
          "name": "stdout",
          "text": [
            "24\n",
            "11000"
          ]
        }
      ],
      "source": [
        "def decimal_Binary(num):\n",
        "    if(num>1):\n",
        "        decimal_Binary(num//2)\n",
        "    print(num%2, end = '')\n",
        "decimal_Binary(int(input()))\n",
        "    \n"
      ]
    },
    {
      "cell_type": "markdown",
      "source": [
        "#**b)Decimal to Octal** "
      ],
      "metadata": {
        "id": "0qBJtEMNZQHy"
      }
    },
    {
      "cell_type": "code",
      "source": [
        "def decimal_Octal(num):\n",
        "    \n",
        "    if(num>1):\n",
        "        decimal_Octal(num//8)\n",
        "    print(num%8, end ='')\n",
        "\n",
        "decimal_Octal(int(input()))\n"
      ],
      "metadata": {
        "id": "vtpFLwKuZxvt"
      },
      "execution_count": null,
      "outputs": []
    },
    {
      "cell_type": "markdown",
      "source": [
        "#**c)Decimal to Hexadecimal** "
      ],
      "metadata": {
        "id": "chJxmnCQZ0qT"
      }
    },
    {
      "cell_type": "code",
      "source": [
        "def decimal_Hexadecimal(num):\n",
        "\n",
        "    if (num > 1):\n",
        "        decimal_Hexadecimal(num // 16)\n",
        "    \n",
        "    print(num % 16 if num%16<10 else chr(ord(\"A\")+num%16-10), end='')\n",
        "\n",
        "decimal_Hexadecimal(int(input()))\n",
        "\n"
      ],
      "metadata": {
        "id": "AjTaQ3lXaY9O"
      },
      "execution_count": null,
      "outputs": []
    },
    {
      "cell_type": "markdown",
      "metadata": {
        "id": "TDRXErzHuQMr"
      },
      "source": [
        "# **4.\tWrite a Python Program To Find ASCII value of a character?**\n",
        "\n",
        "\n"
      ]
    },
    {
      "cell_type": "code",
      "execution_count": null,
      "metadata": {
        "id": "BfttXh84uUUl"
      },
      "outputs": [],
      "source": [
        "char = input()\n",
        "print(‘ASCII value of ’+char+' is', ord(char))\n"
      ]
    },
    {
      "cell_type": "markdown",
      "metadata": {
        "id": "RpATFUKkuZZu"
      },
      "source": [
        "#5.**Write a Python Program to Make a Simple Calculator with 4 basic mathematical operations??**"
      ]
    },
    {
      "cell_type": "code",
      "execution_count": null,
      "metadata": {
        "id": "s7XuQivF4X9v"
      },
      "outputs": [],
      "source": [
        "def basic_calculation(a,b,c):\n",
        "    if(c==1):\n",
        "        return a+b\n",
        "    elif(c==2):\n",
        "        return a-b\n",
        "    elif(c==3):\n",
        "        return a*b\n",
        "    else:\n",
        "        return a/b\n",
        "\n",
        "\n",
        "print(\"enter numbers for operation\")\n",
        "num1 = int(input())\n",
        "num2 = int(input())\n",
        "print(\"Enter 1 for Addition \\nEnter 2 for Substract \\nEnter 3 for Multipiicatioin \\nEnter 4 for Division\")\n",
        "operation = int(input())\n",
        "print(basic_calculation(num1,num2,operation))\n"
      ]
    }
  ],
  "metadata": {
    "colab": {
      "name": "Programming_Assingment_5.ipynb",
      "provenance": []
    },
    "kernelspec": {
      "display_name": "Python 3",
      "name": "python3"
    },
    "language_info": {
      "name": "python"
    }
  },
  "nbformat": 4,
  "nbformat_minor": 0
}