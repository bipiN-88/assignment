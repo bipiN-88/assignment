{
  "cells": [
    {
      "cell_type": "markdown",
      "metadata": {
        "id": "2rafDVV1tlIF"
      },
      "source": [
        "#1. **Write a Python Program to Find the Factorial of a Number?** \" \n",
        "\n",
        "\n",
        "\n",
        "\n"
      ]
    },
    {
      "cell_type": "code",
      "execution_count": 1,
      "metadata": {
        "colab": {
          "base_uri": "https://localhost:8080/"
        },
        "id": "15y_hVmatpGg",
        "outputId": "08543e49-1e79-45ac-fc41-be0d907897ff"
      },
      "outputs": [
        {
          "output_type": "stream",
          "name": "stdout",
          "text": [
            "6\n",
            "720\n"
          ]
        }
      ],
      "source": [
        "def find_fact(num):\n",
        "    if num ==1:\n",
        "        return 1\n",
        "    else:\n",
        "        return find_fact(num-1)*num\n",
        "\n",
        "number = int(input())\n",
        "print(find_fact(number))\n",
        "\n"
      ]
    },
    {
      "cell_type": "markdown",
      "metadata": {
        "id": "BwjJpYtRtzQm"
      },
      "source": [
        "# **2. Write a Python Program to Display the multiplication Table?**:"
      ]
    },
    {
      "cell_type": "code",
      "execution_count": 3,
      "metadata": {
        "colab": {
          "base_uri": "https://localhost:8080/"
        },
        "id": "fBkth71At3zm",
        "outputId": "d0d534dc-391c-4730-e4e2-f82ddf14c750"
      },
      "outputs": [
        {
          "output_type": "stream",
          "name": "stdout",
          "text": [
            "7\n",
            "7 * 1 = 7\n",
            "7 * 2 = 14\n",
            "7 * 3 = 21\n",
            "7 * 4 = 28\n",
            "7 * 5 = 35\n",
            "7 * 6 = 42\n",
            "7 * 7 = 49\n",
            "7 * 8 = 56\n",
            "7 * 9 = 63\n",
            "7 * 10 = 70\n"
          ]
        }
      ],
      "source": [
        "number = int(input())\n",
        "for i in range(1,11):\n",
        "    product = number*i\n",
        "    print(str(number) + \" * \" + str(i)+ \" = \" + str(product))\n"
      ]
    },
    {
      "cell_type": "markdown",
      "metadata": {
        "id": "xFTWrUYMuHGC"
      },
      "source": [
        "#**3.\tWrite a Python Program to Print the Fibonacci sequence??**\n",
        "---\n",
        "\n"
      ]
    },
    {
      "cell_type": "code",
      "execution_count": 27,
      "metadata": {
        "colab": {
          "base_uri": "https://localhost:8080/"
        },
        "id": "W9F7V_tQuK4M",
        "outputId": "6ca1ca49-81b4-48f3-e9e1-ccc5b0443940"
      },
      "outputs": [
        {
          "output_type": "stream",
          "name": "stdout",
          "text": [
            "enter the number for result\n",
            "0\n",
            "0\n"
          ]
        }
      ],
      "source": [
        "def fibonacci_series(num):\n",
        "    if num<0:\n",
        "      return 0\n",
        "    elif num == 1:\n",
        "        return 1\n",
        "    else:\n",
        "        return fibonacci_series(num-1)+fibonacci_series(num-2)\n",
        "\n",
        "print(\"enter the number for result\")\n",
        "number = int(input())\n",
        "print(fibonacci_series(number)if number>=0 else \"you have entered a negetiave number\")\n",
        "\n",
        "\n",
        "\n"
      ]
    },
    {
      "cell_type": "markdown",
      "metadata": {
        "id": "TDRXErzHuQMr"
      },
      "source": [
        "# **4.\tWrite a Python Program to Check Armstrong Number?**\n",
        "\n",
        "\n"
      ]
    },
    {
      "cell_type": "code",
      "execution_count": 7,
      "metadata": {
        "id": "BfttXh84uUUl",
        "colab": {
          "base_uri": "https://localhost:8080/"
        },
        "outputId": "4e5b4909-ea9d-4f91-ffc6-205fcfc83c9c"
      },
      "outputs": [
        {
          "output_type": "stream",
          "name": "stdout",
          "text": [
            "5\n",
            "5 is not a armstrong number\n"
          ]
        }
      ],
      "source": [
        "def sum_cube_digit(num):\n",
        "    sum = 0\n",
        "    while(num>0):\n",
        "        remainder = int(num%10)\n",
        "        sum = sum + pow(remainder, 3)\n",
        "        num = int(num/10)\n",
        "    return sum\n",
        "    \t\n",
        "number= int(input())\n",
        "if number== sum_cube_digit(number):\n",
        "\tprint(str(number)+\" is a armstrong number\")\n",
        "else:\n",
        "  print(str(number)+\" is not a armstrong number\")\n"
      ]
    },
    {
      "cell_type": "markdown",
      "metadata": {
        "id": "RpATFUKkuZZu"
      },
      "source": [
        "# 5.**Write a Python Program to Find Armstrong Number in an Interval?**"
      ]
    },
    {
      "cell_type": "code",
      "execution_count": 11,
      "metadata": {
        "id": "s7XuQivF4X9v",
        "colab": {
          "base_uri": "https://localhost:8080/"
        },
        "outputId": "f576bf57-9195-489c-e466-54c11749a723"
      },
      "outputs": [
        {
          "output_type": "stream",
          "name": "stdout",
          "text": [
            "1\n",
            "10000\n",
            "1\n",
            "153\n",
            "370\n",
            "371\n",
            "407\n"
          ]
        }
      ],
      "source": [
        "def sum_cube_digit(num):\n",
        "    sum = 0\n",
        "    while(num>0):\n",
        "      remainder = int(num%10)\n",
        "      sum = sum + pow(remainder, 3)\n",
        "      num = int(num/10)\n",
        "    return sum\n",
        "    \n",
        "lower_limit = int(input())\n",
        "upper_limit = int(input())                # interval (lower_limit – upper_limit)\n",
        "for i in range(lower_limit, upper_limit):\n",
        "    \t\tif i == sum_cube_digit(i):\n",
        "        \t\tprint(i)\n",
        "\n",
        "\n"
      ]
    },
    {
      "cell_type": "markdown",
      "source": [
        "# **6.\tWrite a Python Program to Find the Sum of Natural Numbers?**"
      ],
      "metadata": {
        "id": "-WCA9QMzaz_N"
      }
    },
    {
      "cell_type": "code",
      "source": [
        "def sum_nat_number(num):\n",
        "    \t\tif num ==0:\n",
        "        \t\treturn 0\n",
        "    \t\telse:\n",
        "       \t\t return sum_nat_number(num-1)+num\n",
        "\n",
        "number = int(input())\n",
        "print(sum_nat_number(number))\n"
      ],
      "metadata": {
        "colab": {
          "base_uri": "https://localhost:8080/"
        },
        "id": "WhftRHfUa9GA",
        "outputId": "39cc844b-8e16-4287-b426-f5d5a032ada0"
      },
      "execution_count": 12,
      "outputs": [
        {
          "output_type": "stream",
          "name": "stdout",
          "text": [
            "23\n",
            "276\n"
          ]
        }
      ]
    }
  ],
  "metadata": {
    "colab": {
      "name": "Programming_Assingment_4.ipynb",
      "provenance": []
    },
    "kernelspec": {
      "display_name": "Python 3",
      "name": "python3"
    },
    "language_info": {
      "name": "python"
    }
  },
  "nbformat": 4,
  "nbformat_minor": 0
}