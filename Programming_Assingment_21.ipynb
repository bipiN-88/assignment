{
  "nbformat": 4,
  "nbformat_minor": 0,
  "metadata": {
    "colab": {
      "provenance": []
    },
    "kernelspec": {
      "name": "python3",
      "display_name": "Python 3"
    },
    "language_info": {
      "name": "python"
    }
  },
  "cells": [
    {
      "cell_type": "markdown",
      "source": [
        "# **Question1**\n",
        "**Write a function that takes a list and a number as arguments. Add the number to the end of the list, then remove the first element of the list. The function should then return the updated list.**\n",
        "\n",
        "\n",
        "Examples\n",
        "next_in_line([5, 6, 7, 8, 9], 1) ➞ [6, 7, 8, 9, 1]\n",
        "next_in_line([7, 6, 3, 23, 17], 10) ➞ [6, 3, 23, 17, 10]\n",
        "next_in_line([1, 10, 20, 42 ], 6) ➞ [10, 20, 42, 6]\n",
        "next_in_line([], 6) ➞ \"No list has been selected\""
      ],
      "metadata": {
        "id": "dOwDm5Pe_Qp7"
      }
    },
    {
      "cell_type": "code",
      "execution_count": null,
      "metadata": {
        "colab": {
          "base_uri": "https://localhost:8080/"
        },
        "id": "h08Ojt3c_Jo1",
        "outputId": "c77482c9-9a43-4f3b-86e1-25e399bdac51"
      },
      "outputs": [
        {
          "output_type": "stream",
          "name": "stdout",
          "text": [
            "[6, 7, 8, 9, 1]\n",
            "[6, 3, 23, 17, 10]\n",
            "[10, 20, 42, 6]\n",
            "No list has been selected\n"
          ]
        }
      ],
      "source": [
        "def next_in_line(lis, num):\n",
        "  if len(lis)>0:\n",
        "    lis.append(num)\n",
        "    del lis[0]\n",
        "    return lis\n",
        "  else:\n",
        "    return \"No list has been selected\"\n",
        "\n",
        "print(next_in_line([5, 6, 7, 8, 9], 1))\n",
        "print(next_in_line([7, 6, 3, 23, 17], 10))\n",
        "print(next_in_line([1, 10, 20, 42 ], 6))\n",
        "print(next_in_line([], 6) )"
      ]
    },
    {
      "cell_type": "markdown",
      "source": [
        "# **Question2**\n",
        "**Create the function that takes a list of dictionaries and returns the sum of people's budgets.**\n",
        "\n",
        "Examples\n",
        "get_budgets([\n",
        "  { \"name\": \"John\", \"age\": 21, \"budget\": 23000 },\n",
        "  { \"name\": \"Steve\",  \"age\": 32, \"budget\": 40000 },\n",
        "  { \"name\": \"Martin\",  \"age\": 16, \"budget\": 2700 }\n",
        "]) ➞ 65700\n",
        "\n",
        "get_budgets([\n",
        "  { \"name\": \"John\",  \"age\": 21, \"budget\": 29000 },\n",
        "  { \"name\": \"Steve\",  \"age\": 32, \"budget\": 32000 },\n",
        "  { \"name\": \"Martin\",  \"age\": 16, \"budget\": 1600 }\n",
        "]) ➞ 62600"
      ],
      "metadata": {
        "id": "cmGT7M2tAs6q"
      }
    },
    {
      "cell_type": "code",
      "source": [
        "def get_budgets(lis):\n",
        "  sum = 0\n",
        "  for item in lis:\n",
        "    sum = sum+ item['budget'] \n",
        "  return sum \n",
        "\n",
        "print(get_budgets([{ \"name\": \"John\", \"age\": 21, \"budget\": 23000 }, { \"name\": \"Steve\", \"age\": 32, \"budget\": 40000 }, { \"name\": \"Martin\", \"age\": 16, \"budget\": 2700 } ]))\n",
        "print(get_budgets([  \n",
        "    { \"name\": \"John\", \"age\": 21, \"budget\": 29000 }, \n",
        "    { \"name\": \"Steve\", \"age\": 32, \"budget\": 32000 }, \n",
        "    { \"name\": \"Martin\", \"age\": 16, \"budget\": 1600 } ]))"
      ],
      "metadata": {
        "colab": {
          "base_uri": "https://localhost:8080/"
        },
        "id": "lAt9H2EAhdYP",
        "outputId": "57f0902d-631a-4bfb-e14f-6414aebb54ee"
      },
      "execution_count": null,
      "outputs": [
        {
          "output_type": "stream",
          "name": "stdout",
          "text": [
            "65700\n",
            "62600\n"
          ]
        }
      ]
    },
    {
      "cell_type": "markdown",
      "source": [
        "# **Question3**\n",
        "**Create a function that takes a string and returns a string with its letters in alphabetical order.**\n",
        "\n",
        "Examples\n",
        "alphabet_soup(\"hello\") ➞ \"ehllo\"\n",
        "\n",
        "alphabet_soup(\"edabit\") ➞ \"abdeit\"\n",
        "\n",
        "alphabet_soup(\"hacker\") ➞ \"acehkr\"\n",
        "\n",
        "alphabet_soup(\"geek\") ➞ \"eegk\"\n",
        "\n",
        "alphabet_soup(\"javascript\") ➞ \"aacijprstv\""
      ],
      "metadata": {
        "id": "k_3XT400GF-R"
      }
    },
    {
      "cell_type": "code",
      "source": [
        "def alphabet_soup(str):\n",
        "  lis = [char for char in str]\n",
        "  lis.sort()\n",
        "  str = \"\".join(lis)\n",
        "  return str\n",
        "   \n",
        "print(alphabet_soup(\"hello\"))\n",
        "\n",
        "print(alphabet_soup(\"edabit\"))\n",
        "\n",
        "print(alphabet_soup(\"hacker\"))\n",
        "\n",
        "print(alphabet_soup(\"geek\"))\n",
        "\n",
        "print(alphabet_soup(\"javascript\"))"
      ],
      "metadata": {
        "colab": {
          "base_uri": "https://localhost:8080/"
        },
        "id": "UbkZJtwAGG0i",
        "outputId": "186d3b5c-4019-471d-ad7d-3c8f33b3f827"
      },
      "execution_count": null,
      "outputs": [
        {
          "output_type": "stream",
          "name": "stdout",
          "text": [
            "ehllo\n",
            "abdeit\n",
            "acehkr\n",
            "eegk\n",
            "aacijprstv\n"
          ]
        }
      ]
    },
    {
      "cell_type": "markdown",
      "source": [
        "# **Question4**\n",
        "**Suppose that you invest $10,000 for 10 years at an interest rate of 6% compounded monthly. What will be the value of your investment at the end of the 10 year period?**\n",
        "\n",
        "Create a function that accepts the principal p, the term in years t, the interest rate r, and the number of compounding periods per year n. The function returns the value at the end of term rounded to the nearest cent.\n",
        "For the example above:\n",
        "\n",
        "compound_interest(10000, 10, 0.06, 12) ➞ 18193.97\n",
        "\n",
        "\n",
        "Note that the interest rate is given as a decimal and n=12 because with monthly compounding there are 12 periods per year. Compounding can also be done annually, quarterly, weekly, or daily."
      ],
      "metadata": {
        "id": "FyZd5_yXcWWN"
      }
    },
    {
      "cell_type": "code",
      "source": [
        "def compound_interest(principal, time, rate, months):\n",
        "  mul = (1+rate/months)\n",
        "  power = months*time\n",
        "  amount = principal * pow(mul, power)\n",
        "  return round(amount,2)\n",
        "\n",
        "print(compound_interest(10000, 10, 0.06, 12))"
      ],
      "metadata": {
        "colab": {
          "base_uri": "https://localhost:8080/"
        },
        "id": "xNY9d9uEccAW",
        "outputId": "c03deed6-29eb-4c53-a059-6cc22627c8fc"
      },
      "execution_count": 3,
      "outputs": [
        {
          "output_type": "stream",
          "name": "stdout",
          "text": [
            "18193.97\n"
          ]
        }
      ]
    },
    {
      "cell_type": "markdown",
      "source": [
        "# **Question5**\n",
        "**Write a function that takes a list of elements and returns only the integers.**\n",
        "\n",
        "\n",
        "Examples\n",
        "return_only_integer([9, 2, \"space\", \"car\", \"lion\", 16]) ➞ [9, 2, 16]\n",
        "\n",
        "return_only_integer([\"hello\", 81, \"basketball\", 123, \"fox\"]) ➞ [81, 123]\n",
        "\n",
        "return_only_integer([10, \"121\", 56, 20, \"car\", 3, \"lion\"]) ➞ [10, 56, 20, 3]\n",
        "\n",
        "return_only_integer([\"String\",  True,  3.3,  1]) ➞ [1]"
      ],
      "metadata": {
        "id": "c8ijeJaiHAeK"
      }
    },
    {
      "cell_type": "code",
      "source": [
        "def return_only_integer(lis):\n",
        "  new_list = [item for item in lis if type(item) == int]\n",
        "  return new_list\n",
        "\n",
        "\n",
        "\n",
        "print(return_only_integer([9, 2, \"space\", \"car\", \"lion\", 16]))\n",
        "\n",
        "\n",
        "print(return_only_integer([\"hello\", 81, \"basketball\", 123, \"fox\"]))\n",
        "print(return_only_integer([10, \"121\", 56, 20, \"car\", 3, \"lion\"]))\n",
        "\n",
        "\n",
        "print(return_only_integer([\"String\",  True,  3.3,  1]))"
      ],
      "metadata": {
        "colab": {
          "base_uri": "https://localhost:8080/"
        },
        "id": "Q20hIMnWG9Ip",
        "outputId": "71c9c795-8dc3-47d5-8245-299ca0d038e4"
      },
      "execution_count": null,
      "outputs": [
        {
          "output_type": "stream",
          "name": "stdout",
          "text": [
            "[9, 2, 16]\n",
            "[81, 123]\n",
            "[10, 56, 20, 3]\n",
            "[1]\n"
          ]
        }
      ]
    }
  ]
}