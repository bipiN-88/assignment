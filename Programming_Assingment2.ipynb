{
  "nbformat": 4,
  "nbformat_minor": 0,
  "metadata": {
    "colab": {
      "name": "Programming_Assingment2.ipynb",
      "provenance": []
    },
    "kernelspec": {
      "name": "python3",
      "display_name": "Python 3"
    },
    "language_info": {
      "name": "python"
    }
  },
  "cells": [
    {
      "cell_type": "markdown",
      "source": [
        "#1. **Write a Python program to convert kilometers to miles?** \" \n",
        "\n",
        "\n"
      ],
      "metadata": {
        "id": "2rafDVV1tlIF"
      }
    },
    {
      "cell_type": "code",
      "source": [
        "def convert_Km_Metres(a):\n",
        "   return a*1000\n",
        "\n",
        "print(\"enter the kilometre to be converted\")\n",
        "km = float(input())\n",
        "met = convert_Km_Metres(km)\n",
        "print(\"the km converted into\", str(met) + \" metres\")\n"
      ],
      "metadata": {
        "id": "15y_hVmatpGg",
        "colab": {
          "base_uri": "https://localhost:8080/"
        },
        "outputId": "5aed57ca-83f9-4e62-ac0a-522296036c8f"
      },
      "execution_count": 6,
      "outputs": [
        {
          "output_type": "stream",
          "name": "stdout",
          "text": [
            "enter the kilometre to be converted\n",
            "23\n",
            "the km converted into 23000.0 metres\n"
          ]
        }
      ]
    },
    {
      "cell_type": "markdown",
      "source": [
        "# **2.\tWrite a Python program to convert Celsius to Fahrenheit?**:"
      ],
      "metadata": {
        "id": "BwjJpYtRtzQm"
      }
    },
    {
      "cell_type": "code",
      "source": [
        "def convert_celsius_to_fahrenheit(a):\n",
        "   return a*1.8+32\n",
        "\n",
        "print(\"enter the temperature in celsius \")\n",
        "cels = float(input())\n",
        "fahren= convert_celsius_to_fahrenheit(cels)\n",
        "print(\"the temperature in Celsius is converted into\", str(fahren) + \" F\")\n"
      ],
      "metadata": {
        "colab": {
          "base_uri": "https://localhost:8080/"
        },
        "id": "fBkth71At3zm",
        "outputId": "a0245b0d-2415-492c-899c-6a696864e879"
      },
      "execution_count": 7,
      "outputs": [
        {
          "output_type": "stream",
          "name": "stdout",
          "text": [
            "enter the temperature in celsius \n",
            "38\n",
            "the temperature in Celsius is converted into 100.4 F\n"
          ]
        }
      ]
    },
    {
      "cell_type": "markdown",
      "source": [
        "# 3.\t**Write a Python program to display calendar?**\n",
        "---\n",
        "\n"
      ],
      "metadata": {
        "id": "xFTWrUYMuHGC"
      }
    },
    {
      "cell_type": "code",
      "source": [
        "import calendar\n",
        "\n",
        "print(\"the year of which calendar is to be displayed\")\n",
        "year = int(input())\n",
        "print(calendar.calendar(year))\n",
        "\n"
      ],
      "metadata": {
        "colab": {
          "base_uri": "https://localhost:8080/"
        },
        "id": "W9F7V_tQuK4M",
        "outputId": "08cb518a-e407-45df-ed12-a120583a9aa6"
      },
      "execution_count": 13,
      "outputs": [
        {
          "output_type": "stream",
          "name": "stdout",
          "text": [
            "the year of which calendar is to be displayed\n",
            "2022\n",
            "                                  2022\n",
            "\n",
            "      January                   February                   March\n",
            "Mo Tu We Th Fr Sa Su      Mo Tu We Th Fr Sa Su      Mo Tu We Th Fr Sa Su\n",
            "                1  2          1  2  3  4  5  6          1  2  3  4  5  6\n",
            " 3  4  5  6  7  8  9       7  8  9 10 11 12 13       7  8  9 10 11 12 13\n",
            "10 11 12 13 14 15 16      14 15 16 17 18 19 20      14 15 16 17 18 19 20\n",
            "17 18 19 20 21 22 23      21 22 23 24 25 26 27      21 22 23 24 25 26 27\n",
            "24 25 26 27 28 29 30      28                        28 29 30 31\n",
            "31\n",
            "\n",
            "       April                      May                       June\n",
            "Mo Tu We Th Fr Sa Su      Mo Tu We Th Fr Sa Su      Mo Tu We Th Fr Sa Su\n",
            "             1  2  3                         1             1  2  3  4  5\n",
            " 4  5  6  7  8  9 10       2  3  4  5  6  7  8       6  7  8  9 10 11 12\n",
            "11 12 13 14 15 16 17       9 10 11 12 13 14 15      13 14 15 16 17 18 19\n",
            "18 19 20 21 22 23 24      16 17 18 19 20 21 22      20 21 22 23 24 25 26\n",
            "25 26 27 28 29 30         23 24 25 26 27 28 29      27 28 29 30\n",
            "                          30 31\n",
            "\n",
            "        July                     August                  September\n",
            "Mo Tu We Th Fr Sa Su      Mo Tu We Th Fr Sa Su      Mo Tu We Th Fr Sa Su\n",
            "             1  2  3       1  2  3  4  5  6  7                1  2  3  4\n",
            " 4  5  6  7  8  9 10       8  9 10 11 12 13 14       5  6  7  8  9 10 11\n",
            "11 12 13 14 15 16 17      15 16 17 18 19 20 21      12 13 14 15 16 17 18\n",
            "18 19 20 21 22 23 24      22 23 24 25 26 27 28      19 20 21 22 23 24 25\n",
            "25 26 27 28 29 30 31      29 30 31                  26 27 28 29 30\n",
            "\n",
            "      October                   November                  December\n",
            "Mo Tu We Th Fr Sa Su      Mo Tu We Th Fr Sa Su      Mo Tu We Th Fr Sa Su\n",
            "                1  2          1  2  3  4  5  6                1  2  3  4\n",
            " 3  4  5  6  7  8  9       7  8  9 10 11 12 13       5  6  7  8  9 10 11\n",
            "10 11 12 13 14 15 16      14 15 16 17 18 19 20      12 13 14 15 16 17 18\n",
            "17 18 19 20 21 22 23      21 22 23 24 25 26 27      19 20 21 22 23 24 25\n",
            "24 25 26 27 28 29 30      28 29 30                  26 27 28 29 30 31\n",
            "31\n",
            "\n"
          ]
        }
      ]
    },
    {
      "cell_type": "markdown",
      "source": [
        "# 4.\t**Write a Python program to solve quadratic equation?**"
      ],
      "metadata": {
        "id": "TDRXErzHuQMr"
      }
    },
    {
      "cell_type": "code",
      "source": [
        "import cmath\n",
        "import math\n",
        "\n",
        "def quadratic_eqn_solution(a,b,c):\n",
        "    #print(a,b,c )\n",
        "    d = b*b-4*a*c\n",
        "    #print(\"d is\", d)\n",
        "    if d >=0 :\n",
        "        di = math.sqrt(d)\n",
        "    else:\n",
        "        di = cmath.sqrt(d)\n",
        "    x1 = (-b+di)/(2*a)\n",
        "    x2 = (-b-di)/(2*a)\n",
        "\n",
        "    return x1, x2\n",
        "    \n",
        "print(\"give the co-efficient of the quad eqn in the form ax*x+b*x+c\")\n",
        "a = int(input())\n",
        "b = int(input())\n",
        "c = int(input())\n",
        "\n",
        "#print(math.sqrt(1))\n",
        "\n",
        "print(\"roots of the quadratic equation are\", quadratic_eqn_solution(a,b,c))\n",
        "\n",
        " \n",
        "\n"
      ],
      "metadata": {
        "id": "BfttXh84uUUl",
        "colab": {
          "base_uri": "https://localhost:8080/"
        },
        "outputId": "0f73554f-04d5-49dc-d8d3-b7bcb811c540"
      },
      "execution_count": 16,
      "outputs": [
        {
          "output_type": "stream",
          "name": "stdout",
          "text": [
            "give the co-efficient of the quad eqn in the form ax*x+b*x+c\n",
            "1\n",
            "10\n",
            "-24\n",
            "1 10 -24\n",
            "d is 196\n",
            "roots of the quadratic equation are (2.0, -12.0)\n"
          ]
        }
      ]
    },
    {
      "cell_type": "markdown",
      "source": [
        "# 5.\t**Write a Python program to swap two variables without temp variable?**"
      ],
      "metadata": {
        "id": "RpATFUKkuZZu"
      }
    },
    {
      "cell_type": "code",
      "source": [
        "import random               #importing math library for square root function use\n",
        "a = input()\n",
        "b = input()\n",
        "a, b = b, a \n",
        "print(a,b)\n"
      ],
      "metadata": {
        "id": "g-xKW7ApudT7",
        "colab": {
          "base_uri": "https://localhost:8080/"
        },
        "outputId": "33785bcc-f730-4a6a-a10a-b70aaca4ce6a"
      },
      "execution_count": 17,
      "outputs": [
        {
          "output_type": "stream",
          "name": "stdout",
          "text": [
            "2\n",
            "3\n",
            "3 2\n"
          ]
        }
      ]
    }
  ]
}