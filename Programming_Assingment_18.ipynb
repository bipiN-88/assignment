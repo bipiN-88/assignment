{
  "nbformat": 4,
  "nbformat_minor": 0,
  "metadata": {
    "colab": {
      "provenance": []
    },
    "kernelspec": {
      "name": "python3",
      "display_name": "Python 3"
    },
    "language_info": {
      "name": "python"
    }
  },
  "cells": [
    {
      "cell_type": "markdown",
      "source": [
        "# **Question1**\n",
        "**Create a function that takes a list of non-negative integers and strings and return a new list without the strings.**\n",
        "\n",
        "Examples\n",
        "\n",
        "filter_list([1, 2, &quot;a&quot;, &quot;b&quot;]) ➞ [1, 2]\n",
        "filter_list([1, &quot;a&quot;, &quot;b&quot;, 0, 15]) ➞ [1, 0, 15]\n",
        "filter_list([1, 2, &quot;aasf&quot;, &quot;1&quot;, &quot;123&quot;, 123]) ➞ [1, 2, 123]"
      ],
      "metadata": {
        "id": "Y8HGItqlf4JD"
      }
    },
    {
      "cell_type": "code",
      "execution_count": null,
      "metadata": {
        "colab": {
          "base_uri": "https://localhost:8080/"
        },
        "id": "MFCd9Tlsf2KH",
        "outputId": "84b54fa9-7c79-4e0a-b55c-0648a2b21f07"
      },
      "outputs": [
        {
          "output_type": "stream",
          "name": "stdout",
          "text": [
            "[1, 2]\n",
            "[1, 0, 15]\n",
            "[1, 2, '1', '123', 123]\n"
          ]
        }
      ],
      "source": [
        "def filter_list(lis):\n",
        "  new_list = [item for item in lis if str(item).isnumeric()]\n",
        "  return new_list \n",
        "\n",
        "print(filter_list([1, 2, \"a\", \"b\"]) )\n",
        "print( filter_list([1, \"a\", \"b\", 0, 15]))\n",
        "print(filter_list([1, 2, \"aasf\", \"1\", \"123\", 123]) )"
      ]
    },
    {
      "cell_type": "markdown",
      "source": [
        "# **Question2**\n",
        "**The \"Reverser\" takes a string as input and returns that string in reverse order, with the opposite case.**\n",
        "\n",
        "Examples\n",
        "reverse(\"Hello World\") ➞ \"DLROw OLLEh\"\n",
        "\n",
        "reverse(\"ReVeRsE\") ➞ \"eSrEvEr\"\n",
        "\n",
        "reverse(\"Radar\") ➞ \"RADAr\"\n"
      ],
      "metadata": {
        "id": "PhaJeFqug0yM"
      }
    },
    {
      "cell_type": "code",
      "source": [
        "def reverse(str):\n",
        "  lis = [char.lower() if char.isupper() else char.upper() for char in str]\n",
        "  str = \"\".join(lis)\n",
        "  return str[-1::-1]\n",
        "\n",
        "print(reverse(\"Radar\") )\n",
        "print(reverse(\"ReVeRsE\") )\n",
        "print(reverse(\"Hello World\"))\n",
        "\n"
      ],
      "metadata": {
        "colab": {
          "base_uri": "https://localhost:8080/"
        },
        "id": "-kChJakag0b7",
        "outputId": "8c856ec9-390a-4726-db89-659d9f92f6f6"
      },
      "execution_count": null,
      "outputs": [
        {
          "output_type": "stream",
          "name": "stdout",
          "text": [
            "RADAr\n",
            "eSrEvEr\n",
            "DLROw OLLEh\n"
          ]
        }
      ]
    },
    {
      "cell_type": "markdown",
      "source": [
        "# **Question3**\n",
        "\n",
        "You can assign variables from lists like this:\n",
        "lst = [1, 2, 3, 4, 5, 6]\n",
        "first = lst[0]\n",
        "middle = lst[1:-1]\n",
        "last = lst[-1]\n",
        "\n",
        "print(first) ➞ outputs 1\n",
        "print(middle) ➞ outputs [2, 3, 4, 5]\n",
        "print(last) ➞ outputs 6\n",
        "With Python 3, you can assign variables from lists in a much more succinct way. Create variables first, middle and last from the given list using destructuring assignment (check the Resources tab for some examples), where:\n",
        "first  ➞ 1\n",
        "\n",
        "middle ➞ [2, 3, 4, 5]\n",
        "\n",
        "last ➞ 6\n",
        "Your task is to unpack the list writeyourcodehere into three variables, being first, middle, and last, with middle being everything in between the first and last element. Then print all three variables.\n",
        "\n"
      ],
      "metadata": {
        "id": "I8Np1EPoT7qJ"
      }
    },
    {
      "cell_type": "code",
      "source": [
        "def unpack(lis):\n",
        "  first, *middle, last = lis\n",
        "  return first, middle, last\n",
        "\n",
        "print(unpack([1, 2, 3, 4, 5, 6] ))"
      ],
      "metadata": {
        "colab": {
          "base_uri": "https://localhost:8080/"
        },
        "id": "vuRG4L5bWkWT",
        "outputId": "f7ad5ecc-ebb9-4bf1-ffaf-e9777d736e4a"
      },
      "execution_count": 4,
      "outputs": [
        {
          "output_type": "stream",
          "name": "stdout",
          "text": [
            "(1, [2, 3, 4, 5], 6)\n"
          ]
        }
      ]
    },
    {
      "cell_type": "markdown",
      "source": [
        "# **Question4**\n",
        "**Write a function that calculates the factorial of a number recursively.**\n",
        "\n",
        "Examples\n",
        "factorial(5) ➞ 120\n",
        "\n",
        "factorial(3) ➞ 6\n",
        "\n",
        "factorial(1) ➞ 1\n",
        "\n",
        "factorial(0) ➞ 1.\n"
      ],
      "metadata": {
        "id": "1qBQo9lJVAEK"
      }
    },
    {
      "cell_type": "code",
      "source": [
        "def factorial(num) :\n",
        "  if num <=1:\n",
        "    return 1\n",
        "  else: \n",
        "    return num *factorial(num-1)\n",
        "  \n",
        "\n",
        "print(factorial(5) )\n",
        "print(factorial(3) )\n",
        "print(factorial(1) )\n",
        "print(factorial(0) )"
      ],
      "metadata": {
        "colab": {
          "base_uri": "https://localhost:8080/"
        },
        "id": "PVhHPPF_WY8w",
        "outputId": "8eb5959a-8729-401c-c6d9-c7204b00c4ae"
      },
      "execution_count": 8,
      "outputs": [
        {
          "output_type": "stream",
          "name": "stdout",
          "text": [
            "120\n",
            "6\n",
            "1\n",
            "1\n"
          ]
        }
      ]
    },
    {
      "cell_type": "markdown",
      "source": [
        "# **Question5**\n",
        "\n",
        "**Write a function that moves all elements of one type to the end of the list.**\n",
        "\n",
        "Examples                                                                       \n",
        "move_to_end([1, 3, 2, 4, 4, 1], 1) ➞ [3, 2, 4, 4, 1, 1]                       \n",
        "Move all the 1s to the end of the array.\n",
        "\n",
        "move_to_end([7, 8, 9, 1, 2, 3, 4], 9) ➞ [7, 8, 1, 2, 3, 4, 9]\n",
        "\n",
        "move_to_end([\"a\", \"a\", \"a\", \"b\"], \"a\") ➞ [\"b\", \"a\", \"a\", \"a\"]\n",
        "\n"
      ],
      "metadata": {
        "id": "gPJu7fTHiecG"
      }
    },
    {
      "cell_type": "code",
      "source": [
        "def move_to_end(lis, char):\n",
        "  front_lis = [item for item in lis if item!=char]\n",
        "  back_lis = [item for item in lis if item==char]\n",
        "  final_list = front_lis+back_lis\n",
        "  return final_list\n",
        "\n",
        "print(move_to_end([1, 3, 2, 4, 4, 1], 1))\n",
        "print(move_to_end([7, 8, 9, 1, 2, 3, 4], 9))\n",
        "print(move_to_end([\"a\", \"a\", \"a\", \"b\",\"c\"], \"a\"))\n"
      ],
      "metadata": {
        "id": "V5TOVCnjU9i8",
        "colab": {
          "base_uri": "https://localhost:8080/"
        },
        "outputId": "0253db8b-1ab2-49a1-fa95-176058866861"
      },
      "execution_count": 10,
      "outputs": [
        {
          "output_type": "stream",
          "name": "stdout",
          "text": [
            "[3, 2, 4, 4, 1, 1]\n",
            "[7, 8, 1, 2, 3, 4, 9]\n",
            "['b', 'c', 'a', 'a', 'a']\n"
          ]
        }
      ]
    }
  ]
}