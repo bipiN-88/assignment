{
  "nbformat": 4,
  "nbformat_minor": 0,
  "metadata": {
    "colab": {
      "name": "Programming_Assingment9.ipynb",
      "provenance": []
    },
    "kernelspec": {
      "name": "python3",
      "display_name": "Python 3"
    },
    "language_info": {
      "name": "python"
    }
  },
  "cells": [
    {
      "cell_type": "markdown",
      "source": [
        "\n",
        "#**1. Write a Python program to check if the given number is a Disarium Number?**\n",
        "\n",
        "\n"
      ],
      "metadata": {
        "id": "rE0CkldQr2dS"
      }
    },
    {
      "cell_type": "code",
      "source": [
        "def find_digit(num):\n",
        "  digit = 0\n",
        "  while num>0:\n",
        "    digit = digit +1\n",
        "    num = num//10\n",
        "  return digit\n",
        "\n",
        "def find_disarium(num):\n",
        "  digit = find_digit(num)\n",
        "  number= num\n",
        "  sum = 0\n",
        "  remainder = 0\n",
        "  while digit>0:\n",
        "    remainder = num%10\n",
        "    sum = sum+pow(remainder, digit)\n",
        "    num = num//10\n",
        "    digit= digit-1\n",
        "\n",
        "  return True if sum== number else False\n",
        "\n",
        "\n",
        "number = int(input())\n",
        "if number>0:\n",
        "  print(str(number)+\" is a disarium number: \", find_disarium(number))\n",
        "else:\n",
        "  print(\"enter a positive number\")\n"
      ],
      "metadata": {
        "colab": {
          "base_uri": "https://localhost:8080/"
        },
        "id": "K0RLe67Zfkrf",
        "outputId": "ef90709e-5bdc-40c8-8605-5396a81b0b1b"
      },
      "execution_count": null,
      "outputs": [
        {
          "output_type": "stream",
          "name": "stdout",
          "text": [
            "-23\n",
            "enter a positive number\n"
          ]
        }
      ]
    },
    {
      "cell_type": "markdown",
      "source": [
        "#**2. Write a Python program to print all disarium numbers between 1 to 100:?**"
      ],
      "metadata": {
        "id": "avT8CzVsr0nX"
      }
    },
    {
      "cell_type": "code",
      "source": [
        "def find_digit(num):\n",
        "  digit = 0\n",
        "  while num>0:\n",
        "    digit = digit +1\n",
        "    num = num//10\n",
        "  return digit\n",
        "\n",
        "def find_disarium(num):\n",
        "  digit = find_digit(num)\n",
        "  number= num\n",
        "  sum = 0\n",
        "  remainder = 0\n",
        "  while digit>0:\n",
        "    remainder = num%10\n",
        "    sum = sum+pow(remainder, digit)\n",
        "    num = num//10\n",
        "    digit= digit-1\n",
        "\n",
        "  return True if sum== number else False\n",
        "\n",
        "\n",
        "for i in range(1,101):\n",
        "  if (find_disarium(i)):\n",
        "    print(i, end = ' ')\n"
      ],
      "metadata": {
        "colab": {
          "base_uri": "https://localhost:8080/"
        },
        "id": "RSgYmZsFpoM3",
        "outputId": "c5d5e06f-4cbf-407f-e611-cfa2002539b3"
      },
      "execution_count": 10,
      "outputs": [
        {
          "output_type": "stream",
          "name": "stdout",
          "text": [
            "1 2 3 4 5 6 7 8 9 89 "
          ]
        }
      ]
    },
    {
      "cell_type": "markdown",
      "source": [
        "\n",
        "\n",
        "#**3. Write a Python program to check if the given number is Happy Number?**\n",
        "\n"
      ],
      "metadata": {
        "id": "YeZgbsbtfm9w"
      }
    },
    {
      "cell_type": "code",
      "source": [
        "def find_sum_digit(number):\n",
        "  sum = 0\n",
        "  residue = 0\n",
        "  while number>0:\n",
        "    residue = number%10\n",
        "    sum = sum + pow(residue,2)\n",
        "    number =  number//10\n",
        "  \n",
        "  return sum \n",
        "\n",
        "def find_if_happy(number):\n",
        "  lis = []\n",
        "  sum = 0\n",
        "  num = number\n",
        "  while(True):\n",
        "    sum = find_sum_digit(num)\n",
        "    if sum ==1:\n",
        "      return True\n",
        "    elif sum in lis:\n",
        "      return False\n",
        "    else:\n",
        "      lis.append(sum)\n",
        "      num = sum\n",
        "      \n",
        "\n",
        "number = int(input(\"enter a number to check if happy number\"))\n",
        "if number>0:\n",
        "  print(\"Is \"+str(number)+\" a happy number:\", find_if_happy(number))\n",
        "else:\n",
        "  print(\"enter a positive number\")\n",
        "\n"
      ],
      "metadata": {
        "id": "sVe_zYCp0AKO",
        "colab": {
          "base_uri": "https://localhost:8080/"
        },
        "outputId": "969ab8a2-ced6-4ff0-e8df-7e8a267d7a0e"
      },
      "execution_count": null,
      "outputs": [
        {
          "output_type": "stream",
          "name": "stdout",
          "text": [
            "enter a number to check if happy number23\n",
            "Is 23 a happy number: True\n"
          ]
        }
      ]
    },
    {
      "cell_type": "markdown",
      "source": [
        "#**4. Write a Python program to print all happy numbers between 1 and 100?**"
      ],
      "metadata": {
        "id": "sw1YaU2xfsAT"
      }
    },
    {
      "cell_type": "code",
      "source": [
        "def find_sum_digit(number):\n",
        "  sum = 0\n",
        "  residue = 0\n",
        "  while number>0:\n",
        "    residue = number%10\n",
        "    sum = sum + pow(residue,2)\n",
        "    number =  number//10\n",
        "  \n",
        "  return sum \n",
        "\n",
        "def find_if_happy(number):\n",
        "  lis = []\n",
        "  sum = 0\n",
        "  num = number\n",
        "  while(True):\n",
        "    sum = find_sum_digit(num)\n",
        "    if sum ==1:\n",
        "      return True\n",
        "    elif sum in lis:\n",
        "      return False\n",
        "    else:\n",
        "      lis.append(sum)\n",
        "      num = sum\n",
        "      \n",
        "      \n",
        "for i in range(101):\n",
        "  if find_if_happy(i):\n",
        "    print(i, end=',')\n"
      ],
      "metadata": {
        "colab": {
          "base_uri": "https://localhost:8080/"
        },
        "id": "W2sEDeGY9wf_",
        "outputId": "2ed874c8-7446-401f-e5f2-cfc148cda33a"
      },
      "execution_count": 9,
      "outputs": [
        {
          "output_type": "stream",
          "name": "stdout",
          "text": [
            "1,7,10,13,19,23,28,31,32,44,49,68,70,79,82,86,91,94,97,100,"
          ]
        }
      ]
    },
    {
      "cell_type": "markdown",
      "source": [
        "#**5. Write a Python program to determine whether the given number is a Harshad Number?**"
      ],
      "metadata": {
        "id": "os1X_oockKKh"
      }
    },
    {
      "cell_type": "code",
      "source": [
        "def find_sum(number):\n",
        "  sum = 0\n",
        "  residue = 0\n",
        "  while number>0:\n",
        "    residue = number%10\n",
        "    sum = sum + residue\n",
        "    number =  number//10\n",
        "  \n",
        "  return sum \n",
        "\n",
        "def find_harshad(number):\n",
        "  try:\n",
        "    if (number % find_sum(number) ==0) :\n",
        "        return True\n",
        "    else:\n",
        "      return False\n",
        "  except Exception as e:\n",
        "    print(e)\n",
        "  \n",
        "number = int(input(\"enter a number to check if harshad number\"))\n",
        "if number>0:\n",
        "  print(\"Is \"+str(number)+\" a happy number:\", find_harshad(number))\n",
        "else:\n",
        "  print(\"enter a positive number\")\n"
      ],
      "metadata": {
        "id": "Db3hlFy-kJ0H",
        "colab": {
          "base_uri": "https://localhost:8080/"
        },
        "outputId": "94117e2f-aa08-433f-8a3d-836658c58872"
      },
      "execution_count": 8,
      "outputs": [
        {
          "output_type": "stream",
          "name": "stdout",
          "text": [
            "enter a number to check if harshad number44\n",
            "Is 44 a happy number: False\n"
          ]
        }
      ]
    },
    {
      "cell_type": "markdown",
      "source": [
        "1, 7, 10, 13, 19, 23, 28, 31, 32, 44, 49, 68, 70, 79, 82, 86, 91, 94, 97, 100"
      ],
      "metadata": {
        "id": "YYbnr6dFgtKe"
      }
    },
    {
      "cell_type": "markdown",
      "source": [
        "\n",
        "\n",
        "#**6. Write a Python program to print all pronic numbers between 1 and 100??**\n"
      ],
      "metadata": {
        "id": "z1Caw9MBNJQQ"
      }
    },
    {
      "cell_type": "code",
      "source": [
        "import math\n",
        "\n",
        "def find_pronic_number(number):\n",
        "  i = 1\n",
        "  while(i<math.sqrt(number)):\n",
        "    if(i*(i+1)==number):\n",
        "      return True\n",
        "    else:\n",
        "      i= i+1\n",
        "  return False\n",
        "\n",
        "for i in range(1,101):\n",
        "  if find_pronic_number(i):\n",
        "    print(i, end=' ')\n",
        "\n"
      ],
      "metadata": {
        "colab": {
          "base_uri": "https://localhost:8080/"
        },
        "id": "8zfPvxPGNUCw",
        "outputId": "db77b51b-3430-4d21-bd3e-5e82ab1dafea"
      },
      "execution_count": 7,
      "outputs": [
        {
          "output_type": "stream",
          "name": "stdout",
          "text": [
            "2 6 12 20 30 42 56 72 90 "
          ]
        }
      ]
    }
  ]
}
