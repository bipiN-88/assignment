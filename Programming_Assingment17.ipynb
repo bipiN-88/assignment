{
  "nbformat": 4,
  "nbformat_minor": 0,
  "metadata": {
    "colab": {
      "provenance": []
    },
    "kernelspec": {
      "name": "python3",
      "display_name": "Python 3"
    },
    "language_info": {
      "name": "python"
    }
  },
  "cells": [
    {
      "cell_type": "markdown",
      "source": [
        "#**Question1.**\n",
        "\n",
        "**Create a function that takes three arguments a, b, c and returns the sum of the numbers that are evenly divided by c from the range a, b inclusive.**\n",
        "\n",
        "\n",
        "Examples\n",
        "evenly_divisible(1, 10, 20) ➞ 0\n",
        "No number between 1 and 10 can be evenly divided by 20.\n",
        "\n",
        "evenly_divisible(1, 10, 2) ➞ 30\n",
        "2 + 4 + 6 + 8 + 10 = 30\n",
        "\n",
        "evenly_divisible(1, 10, 3) ➞ 18\n",
        "3 + 6 + 9 = 18\n"
      ],
      "metadata": {
        "id": "dck3RlGDXdFX"
      }
    },
    {
      "cell_type": "code",
      "source": [
        "def evenly_divisible(a, b, c):\n",
        "  sum =0\n",
        "  while(a<=b):\n",
        "    if a%c==0:\n",
        "      sum = sum+a\n",
        "    a = a +1\n",
        "  return sum\n",
        "\n",
        "print(evenly_divisible(1, 10, 20))\n",
        "print(evenly_divisible(1, 10, 2))\n",
        "print(evenly_divisible(1, 10, 3))"
      ],
      "metadata": {
        "colab": {
          "base_uri": "https://localhost:8080/"
        },
        "id": "J7kFCIwHXcjG",
        "outputId": "89d0b26e-a463-435c-e264-3d60f600de41"
      },
      "execution_count": 37,
      "outputs": [
        {
          "output_type": "stream",
          "name": "stdout",
          "text": [
            "0\n",
            "30\n",
            "18\n"
          ]
        }
      ]
    },
    {
      "cell_type": "markdown",
      "source": [
        "#**Question2.**\n",
        "**Create a function that returns True if a given inequality expression is correct and False otherwise.**\n",
        "\n",
        "Examples\n",
        "correct_signs(\"3 < 7 < 11\") ➞ True\n",
        "\n",
        "correct_signs(\"13 > 44 > 33 > 1\") ➞ False\n",
        "\n",
        "correct_signs(\"1 < 2 < 6 < 9 > 3\") ➞ True"
      ],
      "metadata": {
        "id": "cDxgpb326VwT"
      }
    },
    {
      "cell_type": "code",
      "source": [
        "import re\n",
        "def correct_signs(exp):\n",
        "  exp = \"\".join(exp.split())\n",
        "  res = re.split(r'(\\D)', exp)\n",
        "  operand = [int(item) for item in res if item.isnumeric()]\n",
        "  operator = [item for item in res if item in [\"<\",\">\"]]\n",
        "  for i in range(len(operator)):\n",
        "    if operator[i] == '>':\n",
        "      if operand[i] < operand[i+1]:\n",
        "        return False\n",
        "    else:\n",
        "      if operand[i] > operand[i+1]:\n",
        "        return False\n",
        "  return True\n",
        "  \n",
        " \n",
        "print(correct_signs(\"3 < 7 < 11\"))\n",
        "print(correct_signs(\"13 > 44 > 33 > 1\"))\n",
        "print(correct_signs(\"1 < 2 < 6 < 9 > 3\"))"
      ],
      "metadata": {
        "id": "f0VLSdi66Uwu",
        "colab": {
          "base_uri": "https://localhost:8080/"
        },
        "outputId": "a63988b4-7f52-491c-ab39-a6f620bc311d"
      },
      "execution_count": 36,
      "outputs": [
        {
          "output_type": "stream",
          "name": "stdout",
          "text": [
            "True\n",
            "False\n",
            "True\n"
          ]
        }
      ]
    },
    {
      "cell_type": "markdown",
      "source": [
        "#**Question3.**\n",
        "\n",
        "**Create a function that replaces all the vowels in a string with a specified character.**\n",
        "\n",
        "Examples\n",
        "replace_vowels(\"the aardvark\", \"#\") ➞ \"th# ##rdv#rk\"\n",
        "\n",
        "replace_vowels(\"minnie mouse\", \"?\") ➞ \"m?nn?? m??s?\"\n",
        "\n",
        "replace_vowels(\"shakespeare\", \"*\") ➞ \"sh*k*sp**r*\"\n"
      ],
      "metadata": {
        "id": "XZlnjFGk11Mc"
      }
    },
    {
      "cell_type": "code",
      "source": [
        "def replace_vowels(str, symbol):\n",
        "  vowel = ['a','e','i','o','u']\n",
        "  new_str= [symbol if item in vowel else item for item in str]\n",
        "  new_str = ''.join(new_str)\n",
        "  return new_str\n",
        "print(replace_vowels(\"the aardvark\", \"#\"))\n",
        "print(replace_vowels(\"minnie mouse\", \"?\"))\n",
        "print(replace_vowels(\"shakespeare\", \"*\"))"
      ],
      "metadata": {
        "colab": {
          "base_uri": "https://localhost:8080/"
        },
        "id": "1V6ZQUoV12er",
        "outputId": "0ecda337-4b71-47b2-b2dc-e1b8b1c97269"
      },
      "execution_count": null,
      "outputs": [
        {
          "output_type": "stream",
          "name": "stdout",
          "text": [
            "th# ##rdv#rk\n",
            "m?nn?? m??s?\n",
            "sh*k*sp**r*\n"
          ]
        }
      ]
    },
    {
      "cell_type": "markdown",
      "source": [
        "#**Question4.**\n",
        "\n",
        "**Write a function that calculates the factorial of a number recursively.\n",
        "Examples**\n",
        "\n",
        "factorial(5) ➞ 120\n",
        "\n",
        "factorial(3) ➞ 6\n",
        "\n",
        "factorial(1) ➞ 1\n",
        "\n",
        "factorial(0) ➞ 1"
      ],
      "metadata": {
        "id": "mKR-rwZ32u8E"
      }
    },
    {
      "cell_type": "code",
      "source": [
        "def factorial(num):\n",
        "  if num<=1:\n",
        "    return 1\n",
        "  else: \n",
        "    return num * factorial(num-1)\n",
        "\n",
        "print(factorial(3))\n",
        "print(factorial(1))\n",
        "print(factorial(0))"
      ],
      "metadata": {
        "colab": {
          "base_uri": "https://localhost:8080/"
        },
        "id": "_iSaZht63rRq",
        "outputId": "fa3e4ee2-292f-479e-c69c-3dc8b50ad5e1"
      },
      "execution_count": null,
      "outputs": [
        {
          "output_type": "stream",
          "name": "stdout",
          "text": [
            "6\n",
            "1\n",
            "1\n"
          ]
        }
      ]
    },
    {
      "cell_type": "markdown",
      "source": [
        "#**Question 5**\n",
        "\n",
        "**Hamming distance is the number of characters that differ between two strings.\n",
        "To illustrate:**\n",
        "\n",
        "String1: \"abcbba\"\n",
        "String2: \"abcbda\"\n",
        "\n",
        "Hamming Distance: 1 - \"b\" vs. \"d\" is the only difference.\n",
        "Create a function that computes the hamming distance between two strings.\n",
        "Examples\n",
        "hamming_distance(\"abcde\", \"bcdef\") ➞ 5\n",
        "\n",
        "hamming_distance(\"abcde\", \"abcde\") ➞ 0\n",
        "\n",
        "hamming_distance(\"strong\", \"strung\") ➞ 1"
      ],
      "metadata": {
        "id": "-9t0CFoLqk1e"
      }
    },
    {
      "cell_type": "code",
      "source": [],
      "metadata": {
        "id": "4zmcdMGrXaYO"
      },
      "execution_count": null,
      "outputs": []
    },
    {
      "cell_type": "code",
      "execution_count": null,
      "metadata": {
        "colab": {
          "base_uri": "https://localhost:8080/"
        },
        "id": "_dPkCMSMqhqB",
        "outputId": "d6819d50-749c-4be9-dbae-cfcfe7127d5f"
      },
      "outputs": [
        {
          "output_type": "stream",
          "name": "stdout",
          "text": [
            "5\n",
            "0\n",
            "1\n"
          ]
        }
      ],
      "source": [
        "def hamming_distance(str1, str2):\n",
        "  diff = 0\n",
        "  for i in range(len(str1)):\n",
        "    if str1[i] != str2[i]:\n",
        "      diff = diff+1\n",
        "  return diff\n",
        "\n",
        "print(hamming_distance(\"abcde\", \"bcdef\"))\n",
        "print(hamming_distance(\"abcde\", \"abcde\"))\n",
        "print(hamming_distance(\"strong\", \"strung\"))\n"
      ]
    }
  ]
}