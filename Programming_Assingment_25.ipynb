{
  "nbformat": 4,
  "nbformat_minor": 0,
  "metadata": {
    "colab": {
      "provenance": []
    },
    "kernelspec": {
      "name": "python3",
      "display_name": "Python 3"
    },
    "language_info": {
      "name": "python"
    }
  },
  "cells": [
    {
      "cell_type": "markdown",
      "source": [
        "# **Question1**\n",
        "**Create a function that takes three integer arguments (a, b, c) and returns the amount of integers which are of equal value.**\n",
        "Examples\n",
        "equal(3, 4, 3) ➞ 2\n",
        "equal(1, 1, 1) ➞ 3\n",
        "equal(3, 4, 1) ➞ 0"
      ],
      "metadata": {
        "id": "Y8HGItqlf4JD"
      }
    },
    {
      "cell_type": "code",
      "execution_count": null,
      "metadata": {
        "colab": {
          "base_uri": "https://localhost:8080/"
        },
        "id": "MFCd9Tlsf2KH",
        "outputId": "9b671ff1-ef2d-4cea-e98d-dd7e35cb2dda"
      },
      "outputs": [
        {
          "output_type": "stream",
          "name": "stdout",
          "text": [
            "2\n",
            "0\n",
            "3\n"
          ]
        }
      ],
      "source": [
        "def equal(a,b,c):\n",
        "  count = {}\n",
        "  num_list=[a,b,c]\n",
        "  for i in num_list:\n",
        "    count.setdefault(i, 0)\n",
        "    count[i]= count[i]+1\n",
        "  occur =0\n",
        "  for k,v in count.items():\n",
        "    if v>1:\n",
        "      occur =v\n",
        "\n",
        "  return occur \n",
        "\n",
        "print(equal(3, 4, 3))\n",
        "print(equal(3, 4, 1))\n",
        "print(equal(1, 1, 1))"
      ]
    },
    {
      "cell_type": "markdown",
      "source": [
        "# **Question2**\n",
        "**Write a function that converts a dictionary into a list of keys-values tuples.**\n",
        "\n",
        "\n",
        "Examples\n",
        "dict_to_list({   \"D\": 1,   \"B\": 2, \"C\": 3 }) ➞ [(\"B\", 2), (\"C\", 3), (\"D\", 1)]\n",
        "\n",
        "dict_to_list({   \"likes\": 2, \"dislikes\": 3, \"followers\": 10 }) ➞ [(\"dislikes\", 3), (\"followers\", 10), (\"likes\", 2)]\n",
        "\n",
        "Notes\n",
        "Return the elements in the list in alphabetical order.\n"
      ],
      "metadata": {
        "id": "PhaJeFqug0yM"
      }
    },
    {
      "cell_type": "code",
      "source": [
        "def dict_to_list(dict):\n",
        "  dict_list = []\n",
        "  for k, v in dict.items():\n",
        "    dict_list.append((k,v))\n",
        "  dict_list.sort()\n",
        "  return dict_list\n",
        "\n",
        "print(dict_to_list({ \"likes\": 2,   \"dislikes\": 3,   \"followers\": 10 }))\n",
        "print(dict_to_list({ \"D\": 1, \"B\": 2,  \"C\": 3 }))\n",
        "\n"
      ],
      "metadata": {
        "colab": {
          "base_uri": "https://localhost:8080/"
        },
        "id": "-kChJakag0b7",
        "outputId": "d92fd398-7019-4674-ac9b-f1e74faca1cf"
      },
      "execution_count": null,
      "outputs": [
        {
          "output_type": "stream",
          "name": "stdout",
          "text": [
            "[('dislikes', 3), ('followers', 10), ('likes', 2)]\n",
            "[('B', 2), ('C', 3), ('D', 1)]\n"
          ]
        }
      ]
    },
    {
      "cell_type": "markdown",
      "source": [
        "# **Question3**\n",
        "**Write a function that creates a dictionary with each (key, value) pair being the (lower case, upper case) versions of a letter, respectively.**\n",
        "\n",
        "\n",
        "Examples\n",
        "mapping([\"p\", \"s\"]) ➞ { \"p\": \"P\", \"s\": \"S\" }\n",
        "\n",
        "mapping([\"a\", \"b\", \"c\"]) ➞ { \"a\": \"A\", \"b\": \"B\", \"c\": \"C\" }\n",
        "\n",
        "mapping([\"a\", \"v\", \"y\", \"z\"]) ➞ { \"a\": \"A\", \"v\": \"V\", \"y\": \"Y\", \"z\": \"Z\" }\n",
        "Notes\n",
        "All of the letters in the input list will always be lowercase.\n",
        "\n"
      ],
      "metadata": {
        "id": "I8Np1EPoT7qJ"
      }
    },
    {
      "cell_type": "code",
      "source": [
        "def mapping(key):\n",
        "  my_dict = {i:i.upper() for i in key}\n",
        "  return my_dict\n",
        "\n",
        "print(mapping([\"a\", \"v\", \"y\", \"z\"]))\n",
        "print(mapping([\"a\", \"b\", \"c\"]))\n",
        "print(mapping([\"p\", \"s\"]))\n"
      ],
      "metadata": {
        "colab": {
          "base_uri": "https://localhost:8080/"
        },
        "id": "1_JBaKv5UA34",
        "outputId": "870fdc28-b303-467e-d932-2fa459992aa0"
      },
      "execution_count": null,
      "outputs": [
        {
          "output_type": "stream",
          "name": "stdout",
          "text": [
            "{'a': 'A', 'v': 'V', 'y': 'Y', 'z': 'Z'}\n",
            "{'a': 'A', 'b': 'B', 'c': 'C'}\n",
            "{'p': 'P', 's': 'S'}\n"
          ]
        }
      ]
    },
    {
      "cell_type": "markdown",
      "source": [
        "# **Question4**\n",
        "\n",
        "**Write a function, that replaces all vowels in a string with a specified vowel.**\n",
        "\n",
        "\n",
        "Examples\n",
        "vow_replace(\"apples and bananas\", \"u\") ➞ \"upplus und bununus\"\n",
        "\n",
        "vow_replace(\"cheese casserole\", \"o\") ➞ \"chooso cossorolo\"\n",
        "\n",
        "vow_replace(\"stuffed jalapeno poppers\", \"e\") ➞ \"steffed jelepene peppers\"             \n",
        "\n",
        "\n",
        "Notes All words will be lowercase. Y is not considered a vowel.\n"
      ],
      "metadata": {
        "id": "1qBQo9lJVAEK"
      }
    },
    {
      "cell_type": "code",
      "source": [
        "def vow_replace(str, ch):\n",
        "  vowels = ['a', 'e', 'i', 'o', 'u']\n",
        "  vowels.remove(ch)\n",
        "  lis = [ch if char in vowels else char for char in str ]\n",
        "  str = \"\".join(lis)\n",
        "  return str\n",
        "\n",
        "\n",
        "print(vow_replace(\"apples and bananas\", \"u\"))\n",
        "print(vow_replace(\"cheese casserole\", \"o\" ))\n",
        "print(vow_replace(\"stuffed jalapeno poppers\", \"e\"))\n",
        "\n"
      ],
      "metadata": {
        "colab": {
          "base_uri": "https://localhost:8080/"
        },
        "id": "PVhHPPF_WY8w",
        "outputId": "0ddbab40-e231-459f-eaf1-b2d376b49650"
      },
      "execution_count": null,
      "outputs": [
        {
          "output_type": "stream",
          "name": "stdout",
          "text": [
            "upplus und bununus\n",
            "chooso cossorolo\n",
            "steffed jelepene peppers\n"
          ]
        }
      ]
    },
    {
      "cell_type": "markdown",
      "source": [
        "# **Question5**\n",
        "\n",
        "**Create a function that takes a string as input and capitalizes a letter if its ASCII code is even and returns its lower case version if its ASCII code is odd.**\n",
        "\n",
        "Examples \n",
        "\n",
        "ascii_capitalize(\"to be or not to be!\") ➞ \"To Be oR NoT To Be!\"\n",
        "\n",
        "ascii_capitalize(\"THE LITTLE MERMAID\") ➞ \"THe LiTTLe meRmaiD\"\n",
        "\n",
        "ascii_capitalize(\"Oh what a beautiful morning.\") ➞ \"oH wHaT a BeauTiFuL moRNiNg.\"\n",
        "\n"
      ],
      "metadata": {
        "id": "gPJu7fTHiecG"
      }
    },
    {
      "cell_type": "code",
      "source": [
        "def ascii_capitalize(str):\n",
        "  str = \"\".join([char.upper() if ord(char)%2==0 else char.lower() for char in str])\n",
        "  return str\n",
        "\n",
        "print(ascii_capitalize(\"to be or not to be!\") )\n",
        "print(ascii_capitalize(\"THE LITTLE MERMAID\") )\n",
        "print(ascii_capitalize(\"Oh what a beautiful morning.\") )\n"
      ],
      "metadata": {
        "id": "V5TOVCnjU9i8",
        "colab": {
          "base_uri": "https://localhost:8080/"
        },
        "outputId": "49c5f0e2-6f1d-41a5-d1e9-a3643a326e78"
      },
      "execution_count": 3,
      "outputs": [
        {
          "output_type": "stream",
          "name": "stdout",
          "text": [
            "To Be oR NoT To Be!\n",
            "THe LiTTLe meRmaiD\n",
            "oH wHaT a BeauTiFuL moRNiNg.\n"
          ]
        }
      ]
    }
  ]
}