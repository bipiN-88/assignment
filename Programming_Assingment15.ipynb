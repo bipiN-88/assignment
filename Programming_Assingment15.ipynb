{
  "nbformat": 4,
  "nbformat_minor": 0,
  "metadata": {
    "colab": {
      "provenance": []
    },
    "kernelspec": {
      "name": "python3",
      "display_name": "Python 3"
    },
    "language_info": {
      "name": "python"
    }
  },
  "cells": [
    {
      "cell_type": "markdown",
      "source": [
        "#**Question1.**\n",
        "\n",
        "**Please write a program using generator to print the numbers which can be divisible by 5 and 7 between 0 and n in comma separated form while n is input by console.**\n",
        "\n",
        "\n",
        "Example:\n",
        "If the following n is given as input to the program:\n",
        "100\n",
        "Then, the output of the program should be:\n",
        "0,35,70\n"
      ],
      "metadata": {
        "id": "dck3RlGDXdFX"
      }
    },
    {
      "cell_type": "code",
      "source": [
        "def my_gen(n):\n",
        "    num = 1\n",
        "    while num<n:\n",
        "      if ((num%7==0) and (num%5==0)):\n",
        "        yield num\n",
        "      num = num+1\n",
        "\n",
        "n = int(input(\"enter a number\"))\n",
        "lis = []\n",
        "for i in my_gen(n):\n",
        "  lis.append(str(i))\n",
        "print(\",\".join(lis))\n"
      ],
      "metadata": {
        "colab": {
          "base_uri": "https://localhost:8080/"
        },
        "id": "J7kFCIwHXcjG",
        "outputId": "bba767f6-ef3c-4f16-bfaf-fc40eb421683"
      },
      "execution_count": null,
      "outputs": [
        {
          "output_type": "stream",
          "name": "stdout",
          "text": [
            "enter a number140\n",
            "35,70,105\n"
          ]
        }
      ]
    },
    {
      "cell_type": "markdown",
      "source": [
        "#**Question2.**\n",
        "\n",
        "**Please write a program using generator to print the even numbers between 0 and n in comma separated form while n is input by console.**\n",
        "\n"
      ],
      "metadata": {
        "id": "cDxgpb326VwT"
      }
    },
    {
      "cell_type": "code",
      "source": [
        "def gen_even(num):\n",
        "  n =1 \n",
        "  while(n<num):\n",
        "    if n%2==0:\n",
        "      yield n\n",
        "    n = n+1\n",
        "\n",
        "num = int(input(\"enter a number\"))\n",
        "lis =[]\n",
        "for i in gen_even(num):\n",
        "  lis.append(str(i))\n",
        "print(\",\".join(lis))\n"
      ],
      "metadata": {
        "colab": {
          "base_uri": "https://localhost:8080/"
        },
        "id": "rJM-Mbf_oZhi",
        "outputId": "cf7fae19-c99b-4e01-cd32-54a7767a15c1"
      },
      "execution_count": null,
      "outputs": [
        {
          "output_type": "stream",
          "name": "stdout",
          "text": [
            "enter a number10\n",
            "2,4,6,8\n"
          ]
        }
      ]
    },
    {
      "cell_type": "code",
      "source": [
        "def simpleGeneratorFun():\n",
        "    yield 1           \n",
        "    yield 2           \n",
        "    yield 3           \n",
        "  \n",
        "# Driver code to check above generator function\n",
        "for value in simpleGeneratorFun():\n",
        "    print(value)"
      ],
      "metadata": {
        "id": "JpgJVWttBJuZ",
        "outputId": "756eb67d-0e15-4396-d61e-81163d2f0f25",
        "colab": {
          "base_uri": "https://localhost:8080/"
        }
      },
      "execution_count": null,
      "outputs": [
        {
          "output_type": "stream",
          "name": "stdout",
          "text": [
            "1\n",
            "2\n",
            "3\n"
          ]
        }
      ]
    },
    {
      "cell_type": "markdown",
      "source": [
        "#**Question3.**\n",
        "**The Fibonacci Sequence is computed based on the following formula:**\n",
        "f(n)=0 if n=0\n",
        "f(n)=1 if n=1\n",
        "f(n)=f(n-1)+f(n-2) if n>1\n",
        "Please write a program using list comprehension to print the Fibonacci Sequence in comma separated form with a given n input by console.\n",
        "Example:\n",
        "If the following n is given as input to the program:\n",
        "7\n",
        "\n",
        "Then, the output of the program should be:\n",
        "0,1,1,2,3,5,8,13\n",
        "\n"
      ],
      "metadata": {
        "id": "XZlnjFGk11Mc"
      }
    },
    {
      "cell_type": "code",
      "source": [
        "number = int(input(\"enter a number\"))\n",
        "\n",
        "# Create a empty list\n",
        "mylist=[] \n",
        "\n",
        "# create list comprehension following fibonaci series\n",
        "[mylist.append(0)  if n==0 else mylist.append(1)  if n==1 else mylist.append(mylist[-2]+mylist[-1]) for n in range(number+1)]\n",
        "\n",
        "print(\",\".join([str(item) for item in mylist]))\n"
      ],
      "metadata": {
        "colab": {
          "base_uri": "https://localhost:8080/"
        },
        "id": "Tqnw2fVl-3NE",
        "outputId": "aa5cdbf0-4771-48bc-d017-74204112eb83"
      },
      "execution_count": 34,
      "outputs": [
        {
          "output_type": "stream",
          "name": "stdout",
          "text": [
            "enter a number7\n",
            "0,1,1,2,3,5,8,13\n"
          ]
        }
      ]
    },
    {
      "cell_type": "markdown",
      "source": [
        "#**Question4.**\n",
        "\n",
        "**Assuming that we have some email addresses in the \"username@companyname.com\" format, please write program to print the user name of a given email address. Both user names and company names are composed of letters only.**\n",
        "\n",
        "Example:\n",
        "If the following email address is given as input to the program:\n",
        "john@google.com\n",
        "Then, the output of the program should be:\n",
        "john\n",
        "\n",
        "\n"
      ],
      "metadata": {
        "id": "mKR-rwZ32u8E"
      }
    },
    {
      "cell_type": "code",
      "source": [
        "email_id = input(\"enter a email id of your choice\")\n",
        "print(email_id.split('@')[0])"
      ],
      "metadata": {
        "colab": {
          "base_uri": "https://localhost:8080/"
        },
        "id": "_iSaZht63rRq",
        "outputId": "f835a4c1-817e-4eb5-9678-e76057e2d1a8"
      },
      "execution_count": 37,
      "outputs": [
        {
          "output_type": "stream",
          "name": "stdout",
          "text": [
            "enter a email id of your choiceusername@companyname.com\n",
            "username\n"
          ]
        }
      ]
    },
    {
      "cell_type": "markdown",
      "source": [
        "#**Question 5**\n",
        "\n",
        "Define a class named Shape and its subclass Square. The Square class has an init function which takes a length as argument. Both classes have a area function which can print the area of the shape where Shape's area is 0 by default\n"
      ],
      "metadata": {
        "id": "-9t0CFoLqk1e"
      }
    },
    {
      "cell_type": "code",
      "execution_count": 38,
      "metadata": {
        "colab": {
          "base_uri": "https://localhost:8080/"
        },
        "id": "_dPkCMSMqhqB",
        "outputId": "e4011504-0d62-4e17-b7c5-cbacc0919d07"
      },
      "outputs": [
        {
          "output_type": "stream",
          "name": "stdout",
          "text": [
            "0\n",
            "100\n"
          ]
        }
      ],
      "source": [
        "class Shape():\n",
        "  def area(self):\n",
        "    return 0\n",
        "\n",
        "\n",
        "class Square(Shape):\n",
        "  def __init__(self, length):\n",
        "    self.length = length\n",
        "  \n",
        "  def area(self):\n",
        "    return self.length*self.length\n",
        "\n",
        "\n",
        "shape = Shape()\n",
        "square = Square(10)\n",
        "print(shape.area())\n",
        "print(square.area())\n"
      ]
    }
  ]
}