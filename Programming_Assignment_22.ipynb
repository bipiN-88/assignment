{
  "nbformat": 4,
  "nbformat_minor": 0,
  "metadata": {
    "colab": {
      "provenance": []
    },
    "kernelspec": {
      "name": "python3",
      "display_name": "Python 3"
    },
    "language_info": {
      "name": "python"
    }
  },
  "cells": [
    {
      "cell_type": "markdown",
      "source": [
        "# **Question1**\n",
        "**Create a function that takes three parameters where:**\n",
        "x is the start of the range (inclusive).\n",
        "y is the end of the range (inclusive).\n",
        "n is the divisor to be checked against.\n",
        "Return an ordered list with numbers in the range that are divisible by the third parameter n. Return an empty list if there are no numbers that are divisible by n.\n",
        "\n",
        "\n",
        "Examples\n",
        "list_operation(1, 10, 3) ➞ [3, 6, 9]\n",
        "\n",
        "list_operation(7, 9, 2) ➞ [8]\n",
        "\n",
        "list_operation(15, 20, 7) ➞ []"
      ],
      "metadata": {
        "id": "GuVeWy3I-mc7"
      }
    },
    {
      "cell_type": "code",
      "execution_count": null,
      "metadata": {
        "colab": {
          "base_uri": "https://localhost:8080/"
        },
        "id": "DIJUWRoL-kQA",
        "outputId": "9c9a921c-33aa-4fe4-ece1-cf77bef806b4"
      },
      "outputs": [
        {
          "output_type": "stream",
          "name": "stdout",
          "text": [
            "[8]\n",
            "[3, 6, 9]\n",
            "[]\n"
          ]
        }
      ],
      "source": [
        "def list_operation(start, end, divisor):\n",
        "  div_lis=[]\n",
        "  while(start<=end):\n",
        "    if start%divisor ==0:\n",
        "      div_lis.append(start)\n",
        "    start = start+1\n",
        "  return div_lis\n",
        "\n",
        "print(list_operation(7, 9, 2))\n",
        "print(list_operation(1, 10, 3))\n",
        "print(list_operation(15, 20, 7))"
      ]
    },
    {
      "cell_type": "markdown",
      "source": [
        "# **Question2**\n",
        "# Create a function that takes in two lists and returns True if the second list follows the first list by one element, and False otherwise. In other words, determine if the second list is the first list shifted to the right by 1.\n",
        "Examples\n",
        "simon_says([1, 2], [5, 1]) ➞ True\n",
        "\n",
        "simon_says([1, 2], [5, 5]) ➞ False\n",
        "\n",
        "simon_says([1, 2, 3, 4, 5], [0, 1, 2, 3, 4]) ➞ True\n",
        "\n",
        "simon_says([1, 2, 3, 4, 5], [5, 5, 1, 2, 3]) ➞ False\n",
        "\n",
        "\n",
        "**Notes**\n",
        "Both input lists will be of the same length, and will have a minimum length of 2.\n",
        "The values of the 0-indexed element in the second list and the n-1th indexed element in the first list do not matter."
      ],
      "metadata": {
        "id": "ZINXMyOd_pUK"
      }
    },
    {
      "cell_type": "code",
      "source": [
        "def simon_says(lis1, lis2):\n",
        "  del lis1[-1]\n",
        "  del lis2[0]\n",
        "  if lis1==lis2:\n",
        "    return True\n",
        "  else:\n",
        "    return False\n",
        "\n",
        "\n",
        "print(simon_says([1, 2], [5, 1]))\n",
        "\n",
        "print(simon_says([1, 2], [5, 5]))\n",
        "\n",
        "print(simon_says([1, 2, 3, 4, 5], [0, 1, 2, 3, 4]))\n",
        "\n",
        "print(simon_says([1, 2, 3, 4, 5], [5, 5, 1, 2, 3]))"
      ],
      "metadata": {
        "colab": {
          "base_uri": "https://localhost:8080/"
        },
        "id": "si_kOx5JAgjR",
        "outputId": "aa4efb2b-65d5-49b4-9884-5c2cb7ec0936"
      },
      "execution_count": null,
      "outputs": [
        {
          "output_type": "stream",
          "name": "stdout",
          "text": [
            "True\n",
            "False\n",
            "True\n",
            "False\n"
          ]
        }
      ]
    },
    {
      "cell_type": "markdown",
      "source": [
        "# **Question3**\n",
        "A group of friends have decided to start a secret society. The name will be the first letter of each of their names, sorted in alphabetical order.\n",
        "Create a function that takes in a list of names and returns the name of the secret society.\n",
        "Examples\n",
        "society_name([\"Adam\", \"Sarah\", \"Malcolm\"]) ➞ \"AMS\"\n",
        "\n",
        "society_name([\"Harry\", \"Newt\", \"Luna\", \"Cho\"]) ➞ \"CHLN\"\n",
        "\n",
        "society_name([\"Phoebe\", \"Chandler\", \"Rachel\", \"Ross\", \"Monica\", \"Joey\"])\n",
        "\n"
      ],
      "metadata": {
        "id": "a0wsFcBxB2eg"
      }
    },
    {
      "cell_type": "code",
      "source": [
        "def society_name(name_list):\n",
        "  name_list.sort()\n",
        "  name_list = [item[0] for item in name_list for i in range(len(item)) if i==0]\n",
        "  return name_list\n",
        "  \n",
        "\n",
        "\n",
        "print(society_name([\"Adam\", \"Sarah\", \"Malcolm\"]))\n",
        "print(society_name([\"Harry\", \"Newt\", \"Luna\", \"Cho\"]))\n",
        "print(society_name([\"Phoebe\", \"Chandler\", \"Rachel\", \"Ross\", \"Monica\", \"Joey\"]))"
      ],
      "metadata": {
        "colab": {
          "base_uri": "https://localhost:8080/"
        },
        "id": "AVWKeh-IB-XV",
        "outputId": "c879fb39-ca4e-4e55-d4a9-f4bec85f8031"
      },
      "execution_count": null,
      "outputs": [
        {
          "output_type": "stream",
          "name": "stdout",
          "text": [
            "['A', 'M', 'S']\n",
            "['C', 'H', 'L', 'N']\n",
            "['C', 'J', 'M', 'P', 'R', 'R']\n"
          ]
        }
      ]
    },
    {
      "cell_type": "markdown",
      "source": [
        "Question4\n",
        "An isogram is a word that has no duplicate letters. Create a function that takes a string and returns either True or False depending on whether or not it's an \"isogram\".\n",
        "Examples\n",
        "is_isogram(\"Algorism\") ➞ True\n",
        "\n",
        "is_isogram(\"PasSword\") ➞ False\n",
        "# Not case sensitive.\n",
        "\n",
        "is_isogram(\"Consecutive\") ➞ False\n",
        "Notes\n",
        "Ignore letter case (should not be case sensitive).\n",
        "All test cases contain valid one word strings.\n"
      ],
      "metadata": {
        "id": "HVRJcglSFFCW"
      }
    },
    {
      "cell_type": "code",
      "source": [
        "def is_isogram(str):\n",
        "  lis_original = [char.lower() for char in str]\n",
        "  lis_duplicate = list(set(lis_original))\n",
        "  lis_original.sort()\n",
        "  lis_duplicate.sort()\n",
        "  if lis_original == lis_duplicate:\n",
        "    return True \n",
        "  else:\n",
        "    return False\n",
        "\n",
        "print(is_isogram(\"Algorism\"))\n",
        "print(is_isogram(\"Consecutive\"))\n",
        "print(is_isogram(\"PasSword\"))"
      ],
      "metadata": {
        "colab": {
          "base_uri": "https://localhost:8080/"
        },
        "id": "sYIudmtPFOtf",
        "outputId": "ae617cad-9619-4553-ac7a-c328c8489252"
      },
      "execution_count": null,
      "outputs": [
        {
          "output_type": "stream",
          "name": "stdout",
          "text": [
            "True\n",
            "False\n",
            "False\n"
          ]
        }
      ]
    },
    {
      "cell_type": "markdown",
      "source": [
        "Question5\n",
        "Create a function that takes a string and returns True or False, depending on whether the characters are in order or not.\n",
        "Examples\n",
        "is_in_order(\"abc\") ➞ True\n",
        "\n",
        "is_in_order(\"edabit\") ➞ False\n",
        "\n",
        "is_in_order(\"123\") ➞ True\n",
        "\n",
        "is_in_order(\"xyzz\") ➞ True\n",
        "Notes\n",
        "You don't have to handle empty strings.\n"
      ],
      "metadata": {
        "id": "w6rENADs5GKb"
      }
    },
    {
      "cell_type": "code",
      "source": [
        "def is_in_order(str):\n",
        "  lis = [char for char in str]\n",
        "  lis.sort()\n",
        "  new_str = \"\".join(lis)\n",
        "  return str == new_str\n",
        "\n",
        "print(is_in_order(\"abc\"))\n",
        "print(is_in_order(\"321\") )\n",
        "print(is_in_order(\"xyzz\") )\n",
        "print(is_in_order(\"edabit\") )\n",
        "\n"
      ],
      "metadata": {
        "colab": {
          "base_uri": "https://localhost:8080/"
        },
        "id": "RQejKC0s5DQQ",
        "outputId": "33c2b536-5054-4381-c9f1-24a80273f2f9"
      },
      "execution_count": 7,
      "outputs": [
        {
          "output_type": "stream",
          "name": "stdout",
          "text": [
            "True\n",
            "False\n",
            "True\n",
            "False\n"
          ]
        }
      ]
    }
  ]
}