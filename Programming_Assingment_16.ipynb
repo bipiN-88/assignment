{
  "nbformat": 4,
  "nbformat_minor": 0,
  "metadata": {
    "colab": {
      "provenance": []
    },
    "kernelspec": {
      "name": "python3",
      "display_name": "Python 3"
    },
    "language_info": {
      "name": "python"
    }
  },
  "cells": [
    {
      "cell_type": "markdown",
      "source": [
        "#**Question1.**\n",
        "\n",
        "**Question1. Write a function that stutters a word as if someone is struggling to read it. The first two letters are repeated twice with an ellipsis ... and space after each, and then the word is pronounced with a question mark ?.**\n",
        "\n",
        "Examples\n",
        "\n",
        "stutter(&quot;incredible&quot;) ➞ &quot;in... in... incredible?&quot;\n",
        "\n",
        "stutter(&quot;enthusiastic&quot;) ➞ &quot;en... en... enthusiastic?&quot;\n",
        "\n",
        "stutter(&quot;outstanding&quot;) ➞ &quot;ou... ou... outstanding?&quot;\n",
        "\n",
        "Hint :- Assume all input is in lower case and at least two characters long."
      ],
      "metadata": {
        "id": "dck3RlGDXdFX"
      }
    },
    {
      "cell_type": "code",
      "source": [
        "def stutter(text):\n",
        "  text = text.lower()\n",
        "  front = text[:2]\n",
        "  front = front+\"... \"\n",
        "  text = front*2+text\n",
        "  return text\n",
        "\n",
        "print(stutter(\"incredible\"))\n",
        "print(stutter(\"enthusiastic\") )\n",
        "print(stutter(\"outstanding\") )"
      ],
      "metadata": {
        "colab": {
          "base_uri": "https://localhost:8080/"
        },
        "id": "J7kFCIwHXcjG",
        "outputId": "1b8788e6-6205-47d3-bfef-4f966857d930"
      },
      "execution_count": null,
      "outputs": [
        {
          "output_type": "stream",
          "name": "stdout",
          "text": [
            "in... in... incredible\n",
            "en... en... enthusiastic\n",
            "ou... ou... outstanding\n"
          ]
        }
      ]
    },
    {
      "cell_type": "markdown",
      "source": [
        "#**Question2.**\n",
        "\n",
        "**Create a function that takes an angle in radians and returns the corresponding angle in degrees rounded to one decimal place.**\n",
        "\n",
        "Examples\n",
        "radians_to_degrees(1) ➞ 57.3\n",
        "\n",
        "radians_to_degrees(20) ➞ 1145.9\n",
        "\n",
        "radians_to_degrees(50) ➞ 2864.8\n",
        "\n"
      ],
      "metadata": {
        "id": "cDxgpb326VwT"
      }
    },
    {
      "cell_type": "code",
      "source": [
        "def radians_to_degrees(radian):\n",
        "  return round(radian*180*7/22,3)\n",
        "\n",
        "print(radians_to_degrees(1))\n",
        "print(radians_to_degrees(20))\n",
        "print(radians_to_degrees(50) )"
      ],
      "metadata": {
        "colab": {
          "base_uri": "https://localhost:8080/"
        },
        "id": "rJM-Mbf_oZhi",
        "outputId": "f74a369e-914a-45a6-ff07-b7fa49c6c68c"
      },
      "execution_count": null,
      "outputs": [
        {
          "output_type": "stream",
          "name": "stdout",
          "text": [
            "57.273\n",
            "1145.455\n",
            "2863.636\n"
          ]
        }
      ]
    },
    {
      "cell_type": "markdown",
      "source": [
        "#**Question3.**\n",
        "In this challenge, establish if a given integer num is a Curzon number. If 1 plus 2 elevated to num is exactly divisible by 1 plus 2 multiplied by num, then num is a Curzon number.\n",
        "Given a non-negative integer num, implement a function that returns True if num is a Curzon number, or False otherwise.\n",
        "Examples\n",
        "\n",
        "is_curzon(5) ➞ True\n",
        "2 ** 5 + 1 = 33\n",
        "2 * 5 + 1 = 11\n",
        "33 is a multiple of 11\n",
        "\n",
        "is_curzon(10) ➞ False\n",
        "2 ** 10 + 1 = 1025\n",
        "2 * 10 + 1 = 21\n",
        "1025 is not a multiple of 21\n",
        "\n",
        "is_curzon(14) ➞ True\n",
        "2 ** 14 + 1 = 16385\n",
        "2 * 14 + 1 = 29\n",
        "16385 is a multiple of 29\n"
      ],
      "metadata": {
        "id": "XZlnjFGk11Mc"
      }
    },
    {
      "cell_type": "code",
      "source": [
        "def is_curzon(num):\n",
        "  num1= pow(2, num)+1\n",
        "  num2 = num*2+1\n",
        "  if num1 % num2==0:\n",
        "    return True\n",
        "  else:\n",
        "    return False\n",
        "  \n",
        "print(is_curzon(5))\n",
        "print(is_curzon(10))\n",
        "print(is_curzon(14))"
      ],
      "metadata": {
        "colab": {
          "base_uri": "https://localhost:8080/"
        },
        "id": "1V6ZQUoV12er",
        "outputId": "8def22a7-c26f-4492-cc24-118343fc2507"
      },
      "execution_count": null,
      "outputs": [
        {
          "output_type": "stream",
          "name": "stdout",
          "text": [
            "33 11\n",
            "True\n",
            "1025 21\n",
            "False\n",
            "16385 29\n",
            "True\n"
          ]
        }
      ]
    },
    {
      "cell_type": "code",
      "source": [
        "lis = (i for i in range(10))\n",
        "print(type(lis))"
      ],
      "metadata": {
        "colab": {
          "base_uri": "https://localhost:8080/"
        },
        "id": "WHn2_V2OLil1",
        "outputId": "6462c5b0-54c4-4b4b-8de4-422100a77231"
      },
      "execution_count": null,
      "outputs": [
        {
          "output_type": "stream",
          "name": "stdout",
          "text": [
            "<class 'generator'>\n"
          ]
        }
      ]
    },
    {
      "cell_type": "markdown",
      "source": [
        "#**Question4.**\n",
        "\n",
        "**Given the side length x find the area of a hexagon**\n",
        "\n",
        "Examples\n",
        "area_of_hexagon(1) ➞ 2.6\n",
        "\n",
        "area_of_hexagon(2) ➞ 10.4\n",
        "\n",
        "area_of_hexagon(3) ➞ 23.4\n",
        "\n"
      ],
      "metadata": {
        "id": "mKR-rwZ32u8E"
      }
    },
    {
      "cell_type": "code",
      "source": [
        "import math\n",
        "def area_of_hexagon(side):\n",
        "  return round(math.sqrt(3)*3*0.5*side*side,1)\n",
        "\n",
        "print(area_of_hexagon(1))\n",
        "print(area_of_hexagon(2))\n",
        "print(area_of_hexagon(3))"
      ],
      "metadata": {
        "colab": {
          "base_uri": "https://localhost:8080/"
        },
        "id": "_iSaZht63rRq",
        "outputId": "03da1550-1ec4-4e2f-f791-e657c7e17c5d"
      },
      "execution_count": 4,
      "outputs": [
        {
          "output_type": "stream",
          "name": "stdout",
          "text": [
            "2.6\n",
            "10.4\n",
            "23.4\n"
          ]
        }
      ]
    },
    {
      "cell_type": "markdown",
      "source": [
        "#**Question 5**\n",
        "\n",
        "Create a function that returns a base-2 (binary) representation of a base-10 (decimal) string number. \n",
        "\n",
        "To convert is simple: ((2) means base-2 and (10) means base-10) 010101001(2) = 1 + 8 + 32 + 128.\n",
        "Going from right to left, the value of the most right bit is 1, now from that every bit to the left will be x2 the value, value of an 8 bit binary numbers are (256, 128, 64, 32, 16, 8, 4, 2, 1).\n",
        "\n",
        "\n",
        "Examples\n",
        "binary(1) ➞ \"1\"\n",
        " 1*1 = 1\n",
        "binary(5) ➞ \"101\"\n",
        "1*1 + 1*4 = 5\n",
        "binary(10) ➞ \"1010\"\n",
        "1*2 + 1*8 = 10\n"
      ],
      "metadata": {
        "id": "-9t0CFoLqk1e"
      }
    },
    {
      "cell_type": "code",
      "execution_count": 9,
      "metadata": {
        "colab": {
          "base_uri": "https://localhost:8080/"
        },
        "id": "_dPkCMSMqhqB",
        "outputId": "7c94b1d6-84ac-4e1d-9d73-c2fa21a4fd88"
      },
      "outputs": [
        {
          "output_type": "stream",
          "name": "stdout",
          "text": [
            "1\n",
            "101\n",
            "1010\n"
          ]
        }
      ],
      "source": [
        "def binary(num):\n",
        "  str = \"\"\n",
        "  while num>0:\n",
        "    if num%2==0:\n",
        "      str = \"0\"+str\n",
        "    else:\n",
        "      str = \"1\"+str\n",
        "    num = num//2\n",
        "  return str\n",
        "\n",
        "print(binary(1))\n",
        "print(binary(5))\n",
        "print(binary(10))"
      ]
    }
  ]
}