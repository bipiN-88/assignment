{
  "cells": [
    {
      "cell_type": "markdown",
      "metadata": {
        "id": "2rafDVV1tlIF"
      },
      "source": [
        "# **1. Write a Python Program to find sum of array??**# \n",
        "\n",
        "\n",
        "\n"
      ]
    },
    {
      "cell_type": "code",
      "execution_count": 22,
      "metadata": {
        "colab": {
          "base_uri": "https://localhost:8080/"
        },
        "id": "15y_hVmatpGg",
        "outputId": "14aed8bf-8cd6-4aaa-8e62-9c249f916a21"
      },
      "outputs": [
        {
          "output_type": "stream",
          "name": "stdout",
          "text": [
            "the number of elements you want in the array4\n",
            "\n",
            "Enter the numbers:2 3 4 5\n",
            "14\n",
            "The sum of the array is 14\n"
          ]
        }
      ],
      "source": [
        "def sum_array(arr):\n",
        "    sum =0\n",
        "    for i in arr:\n",
        "        sum = sum + i\n",
        "    print(sum)\n",
        "    return sum\n",
        "\n",
        "n = int(input(\"the number of elements you want in the array\"))\n",
        "arr = list(map(int,input(\"\\nEnter the numbers:\").strip().split()))[:n]\n",
        "#arr = list(input(\"enter an array\"))\n",
        "#print(type(arr))\n",
        "print(\"The sum of the array is\", sum_array(arr))\n"
      ]
    },
    {
      "cell_type": "markdown",
      "metadata": {
        "id": "BwjJpYtRtzQm"
      },
      "source": [
        "# **2. Write a Python Program to find largest element in an array?**::"
      ]
    },
    {
      "cell_type": "code",
      "execution_count": 25,
      "metadata": {
        "colab": {
          "base_uri": "https://localhost:8080/"
        },
        "id": "fBkth71At3zm",
        "outputId": "52680a1a-36a9-4104-bf64-eea5bdd8920b"
      },
      "outputs": [
        {
          "output_type": "stream",
          "name": "stdout",
          "text": [
            "the number of elements you want in the array:4\n",
            "the number of times an array needs to be rotated:2\n",
            "\n",
            "Enter the numbers:2 1 3 4\n",
            "[3, 4, 2, 1]\n"
          ]
        }
      ],
      "source": [
        "def rotate_array(arr, n, r):\n",
        "    \n",
        "    for i in range(r):\n",
        "        last = arr[0]\n",
        "        for i in range(len(arr)-1):\n",
        "            arr[i]=arr[i+1]\n",
        "        arr[n-1] = last\n",
        "        \n",
        "    return arr\n",
        "\n",
        "n = int(input(\"the number of elements you want in the array:\"))\n",
        "r = int(input(\"the number of times an array needs to be rotated:\"))\n",
        "arr = list(map(int,input(\"\\nEnter the numbers:\").strip().split()))[:n]\n",
        "print(rotate_array(arr, n, r))\n"
      ]
    },
    {
      "cell_type": "markdown",
      "metadata": {
        "id": "xFTWrUYMuHGC"
      },
      "source": [
        "#**3.\tWrite a Python Program for array rotation??**\n",
        "---\n",
        "\n"
      ]
    },
    {
      "cell_type": "code",
      "execution_count": 10,
      "metadata": {
        "colab": {
          "base_uri": "https://localhost:8080/"
        },
        "id": "W9F7V_tQuK4M",
        "outputId": "2fd117d9-e7c3-4008-8bcb-95cd077a0cac"
      },
      "outputs": [
        {
          "output_type": "stream",
          "name": "stdout",
          "text": [
            "enter your weight in kg75\n",
            "enter your height in cm171\n",
            "25.64891761567662\n"
          ]
        }
      ],
      "source": [
        "def calculate_height(h):\n",
        "    return h/100\n",
        "\n",
        "def calculate_bmi(w, h):\n",
        "    h = float(calculate_height(h))\n",
        "    bmi = w/(h*h)\n",
        "    return bmi\n",
        "    \n",
        "weight = int(input('enter your weight in kg'))\n",
        "height = int(input('enter your height in cm'))\n",
        "print(calculate_bmi(weight, height) if weight >0 and height>0 else \"enter a positive number\")\n",
        "\n",
        "    \n"
      ]
    },
    {
      "cell_type": "markdown",
      "metadata": {
        "id": "TDRXErzHuQMr"
      },
      "source": [
        "# **4.Write a Python Program to Split the array and add the first part to the end??**\n",
        "\n",
        "\n"
      ]
    },
    {
      "cell_type": "code",
      "execution_count": 27,
      "metadata": {
        "id": "BfttXh84uUUl",
        "colab": {
          "base_uri": "https://localhost:8080/"
        },
        "outputId": "0c40ce7a-a293-4bb2-e2bc-f494e3d44c88"
      },
      "outputs": [
        {
          "output_type": "stream",
          "name": "stdout",
          "text": [
            "the number of elements you want in the array:6\n",
            "locati0n where to split:2\n",
            "\n",
            "Enter the numbers:1 2 3 4 5 6\n",
            "[3, 4, 5, 6, 1, 2]\n"
          ]
        }
      ],
      "source": [
        "def split_add(arr, n, s):\n",
        "    a=[]\n",
        "    b=[]\n",
        "    f_arr=[]\n",
        "    for i in range(s):\n",
        "        a.append(arr[i])\n",
        "        #print(i)\n",
        "    for i in range(s,n):\n",
        "        b.append(arr[i])\n",
        "    \n",
        "    j=0\n",
        "    for i in range(n):\n",
        "        if i < n-s:\n",
        "            f_arr.append(b[i])\n",
        "        else:\n",
        "            f_arr.append(a[j])\n",
        "            j=j+1 \n",
        "    return f_arr\n",
        "\n",
        "\n",
        "n = int(input(\"the number of elements you want in the array:\"))\n",
        "s = int(input(\"locati0n where to split:\"))\n",
        "arr = list(map(int,input(\"\\nEnter the numbers:\").strip().split()))[:n]\n",
        "print(split_add(arr, n, s))\n",
        "\n",
        "\n"
      ]
    },
    {
      "cell_type": "markdown",
      "metadata": {
        "id": "RpATFUKkuZZu"
      },
      "source": [
        "# **5.\tWrite a Python Program to check if a given array is Monotonic?**\n",
        "\n"
      ]
    },
    {
      "cell_type": "code",
      "execution_count": 29,
      "metadata": {
        "id": "s7XuQivF4X9v",
        "colab": {
          "base_uri": "https://localhost:8080/"
        },
        "outputId": "b22decec-82dc-4f96-f3fd-415d58fb4f2c"
      },
      "outputs": [
        {
          "output_type": "stream",
          "name": "stdout",
          "text": [
            "the number of elements you want in the array7\n",
            "\n",
            "Enter the numbers:1 2 3 4 5 6 7\n",
            "The array is monotic: True\n"
          ]
        }
      ],
      "source": [
        "def is_montonic(a):\n",
        "    flag =0\n",
        "    mono = True\n",
        "    if (a[0]>a[1]):\n",
        "        flag = -1\n",
        "    elif a[1]>a[0]:\n",
        "        flag =1\n",
        "    for i in range(len(arr)-1):\n",
        "        if flag ==1:\n",
        "            if(a[i+1]>a[i]):\n",
        "                mono = True\n",
        "            else:\n",
        "                print(i)\n",
        "                mono =False\n",
        "                break\n",
        "            \n",
        "        elif flag ==-1:\n",
        "            if(a[i+1]<a[i]):\n",
        "                mono = True\n",
        "            else:\n",
        "                mono =False\n",
        "                break\n",
        "    #print(sum)\n",
        "    return mono\n",
        "\n",
        "n = int(input(\"the number of elements you want in the array\"))\n",
        "arr = list(map(float,input(\"\\nEnter the numbers:\").strip().split()))[:n]\n",
        "print(\"The array is monotic:\", is_montonic(arr))\n",
        "\n"
      ]
    }
  ],
  "metadata": {
    "colab": {
      "name": "Programming_Assingment_7.ipynb",
      "provenance": []
    },
    "kernelspec": {
      "display_name": "Python 3",
      "name": "python3"
    },
    "language_info": {
      "name": "python"
    }
  },
  "nbformat": 4,
  "nbformat_minor": 0
}