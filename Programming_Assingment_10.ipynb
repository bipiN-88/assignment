{
  "nbformat": 4,
  "nbformat_minor": 0,
  "metadata": {
    "colab": {
      "name": "Programming_Assingment10.ipynb",
      "provenance": []
    },
    "kernelspec": {
      "name": "python3",
      "display_name": "Python 3"
    },
    "language_info": {
      "name": "python"
    }
  },
  "cells": [
    {
      "cell_type": "markdown",
      "source": [
        "#**1. Write a Python program to find sum of elements in list?**"
      ],
      "metadata": {
        "id": "7aT4xtj4tzjL"
      }
    },
    {
      "cell_type": "code",
      "execution_count": 1,
      "metadata": {
        "id": "gFyqZX0egOUX",
        "colab": {
          "base_uri": "https://localhost:8080/"
        },
        "outputId": "f43327e1-0319-41be-9ec7-dc242da28a8e"
      },
      "outputs": [
        {
          "output_type": "stream",
          "name": "stdout",
          "text": [
            "20\n"
          ]
        }
      ],
      "source": [
        "def sum_list_elements(lis):\n",
        "    sum = 0\n",
        "    try:\n",
        "        for i in lis:\n",
        "            sum = sum+i\n",
        "    \n",
        "    except Exception as e:\n",
        "        print(e)\n",
        "    return sum\n",
        "\n",
        "print(sum_list_elements([2,3,4,5,6]))\n"
      ]
    },
    {
      "cell_type": "markdown",
      "source": [
        "#**2. Write a Python program to  Multiply all numbers in the list?**"
      ],
      "metadata": {
        "id": "XfUIiBbnty54"
      }
    },
    {
      "cell_type": "code",
      "source": [
        "def product_list_elements(lis):\n",
        "    product= 1\n",
        "    try:\n",
        "        for i in lis:\n",
        "            product = product*i\n",
        "    \n",
        "    except Exception as e:\n",
        "        print(e)\n",
        "    return product\n",
        "\n",
        "print(product_list_elements([2,3,4,5,6]))\n"
      ],
      "metadata": {
        "colab": {
          "base_uri": "https://localhost:8080/"
        },
        "id": "ysCrGa_LuFva",
        "outputId": "5319bf5a-7924-419a-d591-643fb9aaa09c"
      },
      "execution_count": 4,
      "outputs": [
        {
          "output_type": "stream",
          "name": "stdout",
          "text": [
            "720\n"
          ]
        }
      ]
    },
    {
      "cell_type": "markdown",
      "source": [
        "#**3. Write a Python program to find smallest number in a list?**"
      ],
      "metadata": {
        "id": "wykSFlVbuE-j"
      }
    },
    {
      "cell_type": "code",
      "source": [
        "def smallest_list_elements(lis):\n",
        "    smallest = 1000000\n",
        "    try:\n",
        "        for i in lis:\n",
        "            if i <smallest:\n",
        "                smallest =i\n",
        "            \n",
        "    \n",
        "    except Exception as e:\n",
        "        print(e)\n",
        "    return smallest\n",
        "\n",
        "print(smallest_list_elements([2,3,4,5,1,6]))\n",
        "\n",
        "\n"
      ],
      "metadata": {
        "colab": {
          "base_uri": "https://localhost:8080/"
        },
        "id": "vuJ3AKRvuSCw",
        "outputId": "2d458331-c8ff-4990-f158-cc10df7cf75e"
      },
      "execution_count": 3,
      "outputs": [
        {
          "output_type": "stream",
          "name": "stdout",
          "text": [
            "1\n"
          ]
        }
      ]
    },
    {
      "cell_type": "markdown",
      "source": [
        "#**4. Write a Python program to find largest number in a list?**"
      ],
      "metadata": {
        "id": "fHVjlyouubLZ"
      }
    },
    {
      "cell_type": "code",
      "source": [
        "def largest_list_elements(lis):\n",
        "    largest = 0\n",
        "    try:\n",
        "        for i in lis:\n",
        "            if i >largest:\n",
        "                largest =i\n",
        "            \n",
        "    \n",
        "    except Exception as e:\n",
        "        print(e)\n",
        "    return largest\n",
        "\n",
        "print(largest_list_elements([2,3,4,8, 5,1,9]))\n"
      ],
      "metadata": {
        "colab": {
          "base_uri": "https://localhost:8080/"
        },
        "id": "J1WbqAHfuh2o",
        "outputId": "c53d782d-9456-4cdf-ec7f-03c988519cf6"
      },
      "execution_count": 6,
      "outputs": [
        {
          "output_type": "stream",
          "name": "stdout",
          "text": [
            "9\n"
          ]
        }
      ]
    },
    {
      "cell_type": "markdown",
      "source": [
        "#**5. Write a Python program to find second largest number in a list?**"
      ],
      "metadata": {
        "id": "NpbFZyXWuobb"
      }
    },
    {
      "cell_type": "code",
      "source": [
        "def Second_largest_list_elements(lis):\n",
        "    lis.sort(reverse= True)\n",
        "    return lis[1]\n",
        "\n",
        "print(Second_largest_list_elements([2,3,4,8, 5,1,6]))\n"
      ],
      "metadata": {
        "colab": {
          "base_uri": "https://localhost:8080/"
        },
        "id": "DWg4KnKduwOr",
        "outputId": "1fa4d95c-29a2-45c9-94c8-aa5d11e4c170"
      },
      "execution_count": 10,
      "outputs": [
        {
          "output_type": "stream",
          "name": "stdout",
          "text": [
            "6\n"
          ]
        }
      ]
    },
    {
      "cell_type": "markdown",
      "source": [
        "#**6.Write a Python program to find N largest elements from a list?**"
      ],
      "metadata": {
        "id": "TPChBEXavuHO"
      }
    },
    {
      "cell_type": "code",
      "source": [
        "def nd_largest_list_elements(lis,n):\n",
        "    lis.sort(reverse = True)\n",
        "    return lis[n-1]\n",
        "\n",
        "n = 3\n",
        "print(nd_largest_list_elements([2,3,4,8, 5,1,6], n))\n"
      ],
      "metadata": {
        "colab": {
          "base_uri": "https://localhost:8080/"
        },
        "id": "s2r_DQvivN-p",
        "outputId": "f130ee9b-9113-4182-c71c-e7b51794675e"
      },
      "execution_count": 11,
      "outputs": [
        {
          "output_type": "stream",
          "name": "stdout",
          "text": [
            "5\n"
          ]
        }
      ]
    },
    {
      "cell_type": "markdown",
      "source": [
        "#**7. Write a Python program to print even numbers in a list?**"
      ],
      "metadata": {
        "id": "pTfzwHJxv-Ah"
      }
    },
    {
      "cell_type": "code",
      "source": [
        "def print_even_list_elements(lis):\n",
        "    lisi = [ i for i in lis if i%2==0]\n",
        "    return lisi\n",
        "\n",
        "print(print_even_list_elements([2,3,4,8, 5,1,6]))\n"
      ],
      "metadata": {
        "colab": {
          "base_uri": "https://localhost:8080/"
        },
        "id": "a0W1uemBwLrU",
        "outputId": "468b973d-083d-494e-96fd-76905253d856"
      },
      "execution_count": 12,
      "outputs": [
        {
          "output_type": "stream",
          "name": "stdout",
          "text": [
            "[2, 4, 8, 6]\n"
          ]
        }
      ]
    },
    {
      "cell_type": "markdown",
      "source": [
        "#**8.Write a Python program to print odd numbers in a List?**\n",
        "\n",
        "\n"
      ],
      "metadata": {
        "id": "4LZz_Bb8wNv2"
      }
    },
    {
      "cell_type": "code",
      "source": [
        "def print_odd_list_elements(lis):\n",
        "    lisi = [ i for i in lis if i%2!=0]\n",
        "    \n",
        "    return lisi\n",
        "\n",
        "\n",
        "print(print_odd_list_elements([2,3,4,8, 5,1,6]))\n"
      ],
      "metadata": {
        "colab": {
          "base_uri": "https://localhost:8080/"
        },
        "id": "rVaXG4tOwdoK",
        "outputId": "60e3c1f5-426a-432a-aa5f-bc7068272b08"
      },
      "execution_count": 13,
      "outputs": [
        {
          "output_type": "stream",
          "name": "stdout",
          "text": [
            "[3, 5, 1]\n"
          ]
        }
      ]
    },
    {
      "cell_type": "markdown",
      "source": [
        "#**9. Write a Python program to Remove empty List from List?**"
      ],
      "metadata": {
        "id": "KIJVOhNJwi3h"
      }
    },
    {
      "cell_type": "code",
      "source": [
        "def remove_empty_List(lis):\n",
        "    smallest = 1000000\n",
        "    try:\n",
        "        for i in lis:\n",
        "            if len(i)==0:\n",
        "                lis.remove(i)\n",
        "            \n",
        "    except Exception as e:\n",
        "        print(e)\n",
        "    return lis\n",
        "\n",
        "print(remove_empty_List([[1,2,3,4], [4,5,6], [], [6, 8,15, 23], [] ,[1,2,3,4]]))\n",
        "\n"
      ],
      "metadata": {
        "colab": {
          "base_uri": "https://localhost:8080/"
        },
        "id": "HBhiq6vmwvFo",
        "outputId": "ee9e05f4-549d-4091-90b5-fc9a354dc198"
      },
      "execution_count": 14,
      "outputs": [
        {
          "output_type": "stream",
          "name": "stdout",
          "text": [
            "[[1, 2, 3, 4], [4, 5, 6], [6, 8, 15, 23], [1, 2, 3, 4]]\n"
          ]
        }
      ]
    },
    {
      "cell_type": "markdown",
      "source": [
        "#**10.Write a Python program to Cloning or Copying a list?**"
      ],
      "metadata": {
        "id": "t0YXDGk_wyPW"
      }
    },
    {
      "cell_type": "code",
      "source": [
        "def list_copy(lis):\n",
        "    return list(lis)\n",
        "\n",
        "lis = ['a','b','c']\n",
        "new_lis= list_copy(lis)\n",
        "new_lis.append('d')\n",
        "print(lis)\n",
        "print(new_lis)\n"
      ],
      "metadata": {
        "colab": {
          "base_uri": "https://localhost:8080/"
        },
        "id": "mFmCvWkDw5RR",
        "outputId": "0d0a474a-68f7-472d-ece1-4627574c253e"
      },
      "execution_count": 15,
      "outputs": [
        {
          "output_type": "stream",
          "name": "stdout",
          "text": [
            "['a', 'b', 'c']\n",
            "['a', 'b', 'c', 'd']\n"
          ]
        }
      ]
    },
    {
      "cell_type": "markdown",
      "source": [
        "#**11.Write a Python program to Count occurrences of an element in a list?**"
      ],
      "metadata": {
        "id": "gXimTqj9xFZ3"
      }
    },
    {
      "cell_type": "code",
      "source": [
        "lis = [\"mouse\", 8, 4, 6, 'a', 'mouse']\n",
        "count = {}\n",
        "for item in lis:\n",
        "    count.setdefault(item, 0)\n",
        "    count[item] = count[item] + 1\n",
        "    \n",
        "for k,v in count.items():\n",
        "    print(k,v)\n"
      ],
      "metadata": {
        "colab": {
          "base_uri": "https://localhost:8080/"
        },
        "id": "Uv2vwLyhxEPo",
        "outputId": "930bc47c-dd61-4e21-c344-8111101fe6dd"
      },
      "execution_count": 16,
      "outputs": [
        {
          "output_type": "stream",
          "name": "stdout",
          "text": [
            "mouse 2\n",
            "8 1\n",
            "4 1\n",
            "6 1\n",
            "a 1\n"
          ]
        }
      ]
    },
    {
      "cell_type": "markdown",
      "source": [
        ""
      ],
      "metadata": {
        "id": "OtZP0cMHwyKd"
      }
    }
  ]
}