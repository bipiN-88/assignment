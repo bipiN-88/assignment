{
  "nbformat": 4,
  "nbformat_minor": 0,
  "metadata": {
    "colab": {
      "name": "Programming_Assingment_11.ipynb",
      "provenance": []
    },
    "kernelspec": {
      "name": "python3",
      "display_name": "Python 3"
    },
    "language_info": {
      "name": "python"
    }
  },
  "cells": [
    {
      "cell_type": "markdown",
      "source": [
        "#**1. Write a Python program to find words which are greater than given length k?**"
      ],
      "metadata": {
        "id": "mrk46rrpDQhw"
      }
    },
    {
      "cell_type": "code",
      "source": [
        "def check_len(words, length):\n",
        "    lis = []\n",
        "    for i in words:\n",
        "        if len(i)>length:\n",
        "            lis.append(i)\n",
        "    return lis\n",
        "\n",
        "\n",
        "str = \"attribute associated with the object orinted programming\"\n",
        "k = int(input(\"give the length of the words\"))\n",
        "print(check_len(str.split(), k))"
      ],
      "metadata": {
        "colab": {
          "base_uri": "https://localhost:8080/"
        },
        "id": "LZX5R7PkDUff",
        "outputId": "96412b5c-87a8-4851-bfab-c925cc14a01e"
      },
      "execution_count": 3,
      "outputs": [
        {
          "output_type": "stream",
          "name": "stdout",
          "text": [
            "give the length of the words4\n",
            "['attribute', 'associated', 'object', 'orinted', 'programming']\n"
          ]
        }
      ]
    },
    {
      "cell_type": "markdown",
      "source": [
        "#**2. Write a Python program for removing i-th character from a string?** "
      ],
      "metadata": {
        "id": "O3mGFwQSDclN"
      }
    },
    {
      "cell_type": "code",
      "source": [
        "def return_ith_character(word, index):\n",
        "    try:\n",
        "        return word.replace(word[index-1],'',1)\n",
        "    except Exception as e:\n",
        "        print(e)\n",
        "\n",
        "str = input(\"enter a string\")\n",
        "k = int(input(\"give the index of the character\"))\n",
        "print(return_ith_character(str, k))"
      ],
      "metadata": {
        "colab": {
          "base_uri": "https://localhost:8080/"
        },
        "id": "C_UULjrPDuRv",
        "outputId": "3c13757d-5ec1-49e7-8654-f97c4fdcc4e9"
      },
      "execution_count": 8,
      "outputs": [
        {
          "output_type": "stream",
          "name": "stdout",
          "text": [
            "enter a stringattribute associated with the object orinted programming\n",
            "give the index of the character3\n",
            "atribute associated with the object orinted programming\n"
          ]
        }
      ]
    },
    {
      "cell_type": "markdown",
      "source": [
        "#**3.Write a Python program to split and join a string?**"
      ],
      "metadata": {
        "id": "UoSiYD4DGH1B"
      }
    },
    {
      "cell_type": "code",
      "source": [
        "def string_split_fn(str, punc):\n",
        "  words=\"\"\n",
        "  lis = []\n",
        "  for i in range(len(str)):\n",
        "    if (str[i]==punc):\n",
        "      lis.append(words)\n",
        "      words =\"\"\n",
        "    else:\n",
        "      words = words+str[i]\n",
        "      if((i ==(len(str)-1))):\n",
        "        lis.append(words)\n",
        "  return lis\n",
        " \n",
        "def string_join_fn(lis,punc):\n",
        "  words=\"\"\n",
        "  flag=0\n",
        "  for item in lis:\n",
        "    if flag:\n",
        "      words = words+punc+item\n",
        "    else: \n",
        "      words = words+item\n",
        "    flag = flag+1\n",
        "    \n",
        "  return words\n",
        " \n",
        "str = \"apple, mangoes, oranges, guava, grapes, muskmelon\"\n",
        "punc = \",\"   # separator for splitting\n",
        "print(string_join_fn(string_split_fn(str, punc),punc))"
      ],
      "metadata": {
        "colab": {
          "base_uri": "https://localhost:8080/"
        },
        "id": "pdDIpssPF-c3",
        "outputId": "acd83f46-316b-4475-993b-7913a183c3cb"
      },
      "execution_count": 9,
      "outputs": [
        {
          "output_type": "stream",
          "name": "stdout",
          "text": [
            "apple, mangoes, oranges, guava, grapes, muskmelon\n"
          ]
        }
      ]
    },
    {
      "cell_type": "markdown",
      "source": [
        "#**4. Write a Python to check if a given string is binary string or not**"
      ],
      "metadata": {
        "id": "-McQ-Bf3Gew4"
      }
    },
    {
      "cell_type": "code",
      "execution_count": 10,
      "metadata": {
        "colab": {
          "base_uri": "https://localhost:8080/"
        },
        "id": "rDXnnq5UCqJq",
        "outputId": "6200f54a-64d5-4795-a8b7-73166508f56d"
      },
      "outputs": [
        {
          "output_type": "stream",
          "name": "stdout",
          "text": [
            "enter a string10111\n",
            "it is binary\n"
          ]
        }
      ],
      "source": [
        "def check_binary(str):\n",
        "  binry = \"01\"\n",
        "  flag = 1\n",
        "  for char in str:\n",
        "    if char not in binry:\n",
        "      flag =0\n",
        "\n",
        "  if flag:\n",
        "    return \"it is binary\"\n",
        "  else: \n",
        "    return \"it is not binary\"\n",
        "\n",
        "\n",
        "print(check_binary(input(\"enter a string\")))\n",
        "\n",
        "\n",
        "\n",
        "\n",
        "\n",
        "\t\n",
        "\n"
      ]
    },
    {
      "cell_type": "markdown",
      "source": [
        "#**5.Write a Python program to find uncommon words from two Strings?**"
      ],
      "metadata": {
        "id": "ivEiRac7G0pj"
      }
    },
    {
      "cell_type": "code",
      "source": [
        "def find_uncommon(A,B):\n",
        "  count = {}\n",
        "  lisA = A.split()\n",
        "  lisB = B.split()\n",
        "\n",
        "  for char in lisA:\n",
        "    count.setdefault(char, 0)\n",
        "    count[char]= count[char]+1\n",
        "\n",
        "  for char in lisB:\n",
        "    count.setdefault(char, 0)\n",
        "    count[char]= count[char]+1\n",
        "\n",
        "  lis_final = [k for k,v in count.items() if v==1]\n",
        "  return lis_final\n",
        "\n",
        "A = \"Geeks for Geek\" \n",
        "B = \"Learning from Geeks for Geeks\"\n",
        "print(find_uncommon(A,B))"
      ],
      "metadata": {
        "colab": {
          "base_uri": "https://localhost:8080/"
        },
        "id": "J6o87EzyG7LZ",
        "outputId": "d81ade7f-4a35-41e8-f8f1-3c48ce215741"
      },
      "execution_count": 12,
      "outputs": [
        {
          "output_type": "stream",
          "name": "stdout",
          "text": [
            "['Geek', 'Learning', 'from']\n"
          ]
        }
      ]
    },
    {
      "cell_type": "markdown",
      "source": [
        "#**6. Write a Python to find all duplicate characters in string?** "
      ],
      "metadata": {
        "id": "0sJ-eBFjHrNo"
      }
    },
    {
      "cell_type": "code",
      "source": [
        "def find_duplicate_char(str):\n",
        "  count = {}\n",
        "\n",
        "  for char in str:\n",
        "    count.setdefault(char, 0)\n",
        "    count[char]= count[char]+1\n",
        "\n",
        "  lis_final = [k for k,v in count.items() if v>1]\n",
        "  return lis_final\n",
        "\n",
        "\n",
        "B = \"Learning from Geeks for Geeks\"\n",
        "print(find_duplicate_char(B))\n"
      ],
      "metadata": {
        "colab": {
          "base_uri": "https://localhost:8080/"
        },
        "id": "x8unPsLLQMo3",
        "outputId": "bbbdc83b-8804-48b9-a844-7126a69d346e"
      },
      "execution_count": 15,
      "outputs": [
        {
          "output_type": "stream",
          "name": "stdout",
          "text": [
            "['e', 'r', 'n', ' ', 'f', 'o', 'G', 'k', 's']\n"
          ]
        }
      ]
    },
    {
      "cell_type": "markdown",
      "source": [
        "#**7. Write a Python Program to check if a string contains any special character?**"
      ],
      "metadata": {
        "id": "IUj-v9XSQuSP"
      }
    },
    {
      "cell_type": "code",
      "source": [
        "def check_special_char(str):\n",
        "  A = \"[@_!#$%^&*()<>?}{~:]\"\n",
        "  flag = 0\n",
        "\n",
        "  for char in B:\n",
        "    if char in A:\n",
        "        flag =1\n",
        "  if flag==1:\n",
        "    return \"the string has special character\" \n",
        "  else:\n",
        "    return \"the string has no special character\" \n",
        "\n",
        "B = \"Learning from Geeks for# Geeks\"\n",
        "\n",
        "print(check_special_char(B))\n"
      ],
      "metadata": {
        "colab": {
          "base_uri": "https://localhost:8080/"
        },
        "id": "ndcgTVLVQuxY",
        "outputId": "51da6e03-07b8-4931-b94f-d0ee80e84941"
      },
      "execution_count": 16,
      "outputs": [
        {
          "output_type": "stream",
          "name": "stdout",
          "text": [
            "the string has special character\n"
          ]
        }
      ]
    }
  ]
}